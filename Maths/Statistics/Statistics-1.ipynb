{
 "cells": [
  {
   "cell_type": "markdown",
   "id": "8339ccc4-8316-463e-a8c9-f0fcfdf5cab7",
   "metadata": {
    "jp-MarkdownHeadingCollapsed": true
   },
   "source": [
    "### Statistics"
   ]
  },
  {
   "cell_type": "markdown",
   "id": "e7126c22-17a5-48c1-a21a-22a9842656c6",
   "metadata": {},
   "source": [
    "Statistics is the branch of mathematics that deals with collecting, analyzing, interpreting, and presenting numerical data. It helps in making decisions based on data patterns and trends."
   ]
  },
  {
   "cell_type": "markdown",
   "id": "333ec237-360a-4d14-9108-79b95d83cf90",
   "metadata": {},
   "source": [
    "**Example**:- A company analyzing customer feedback scores to improve its product quality."
   ]
  },
  {
   "cell_type": "markdown",
   "id": "8e0621dd-175c-4876-abf1-e465ed7a6cde",
   "metadata": {},
   "source": [
    "#### Types of Statistics"
   ]
  },
  {
   "cell_type": "markdown",
   "id": "8b71c778-3d08-46dc-ae08-a0e5d8428368",
   "metadata": {},
   "source": [
    "- **Descriptive Statistics** :- Summarizes and describes the characteristics of a dataset. (The average test score of a class.)\n",
    "- **Inferential Statistics** :- Uses a sample of data to make predictions or inferences about a larger population.(Predicting election results based on a survey of 1,000 voters.)"
   ]
  },
  {
   "cell_type": "markdown",
   "id": "9e82dcfd-4be9-4530-a4ef-9cb50118fba6",
   "metadata": {
    "jp-MarkdownHeadingCollapsed": true
   },
   "source": [
    "### Population and Sample"
   ]
  },
  {
   "cell_type": "markdown",
   "id": "9515e704-a113-43d5-9e72-fcd54183e9f6",
   "metadata": {},
   "source": [
    "- **Population** :- The entire group that you want to study.(All students in a university.)\n",
    "- **Sample** :- A smaller group selected from the population for analysis.(200 students selected from the university for a study.)"
   ]
  },
  {
   "cell_type": "markdown",
   "id": "1f37f69f-a20f-4aef-ab6e-9f3b9356b1b2",
   "metadata": {
    "jp-MarkdownHeadingCollapsed": true
   },
   "source": [
    "###  Sampling Techniques"
   ]
  },
  {
   "cell_type": "markdown",
   "id": "faf26514-e248-4c4f-9674-1a472551e72e",
   "metadata": {},
   "source": [
    "Sampling techniques help in selecting a subset of data from a population.\n",
    "\n",
    "- **Random Sampling** :- Every individual has an equal chance of being selected.(Drawing names from a hat to pick participants for a survey.)\n",
    "- **Stratified Sampling** :- Population is divided into groups (strata), and samples are taken from each group.(A school selects students from each grade level to participate in a study.)\n",
    "- **Systematic Sampling** :- Selecting every nth individual from a population list.(A factory inspecting every 10th product for quality control.)\n",
    "- **Convenience Sampling** :- Selecting individuals based on ease of access.(A researcher surveying people at a nearby shopping mall.)"
   ]
  },
  {
   "cell_type": "markdown",
   "id": "3094e4ac-80d3-4dd4-99d8-7d9cdf074516",
   "metadata": {
    "jp-MarkdownHeadingCollapsed": true
   },
   "source": [
    "### Variables"
   ]
  },
  {
   "cell_type": "markdown",
   "id": "74b93fb1-a643-4174-a22d-cbfe5205e50f",
   "metadata": {},
   "source": [
    "A variable is any characteristic, number, or quantity that can be measured or counted.\n",
    "\n",
    "Example:\n",
    "Height of students, temperature of a city, or number of customers in a store."
   ]
  },
  {
   "cell_type": "markdown",
   "id": "59381261-de40-4d64-a114-261f4f4a7a91",
   "metadata": {
    "jp-MarkdownHeadingCollapsed": true
   },
   "source": [
    "#### Types of Variables"
   ]
  },
  {
   "cell_type": "markdown",
   "id": "4b0f628a-179e-458b-bf38-2aa8ec492ffc",
   "metadata": {},
   "source": [
    "- **Quantitative Variables (Numerical)** :- Variables that represent numerical values and can be measured or counted.\n",
    "\n",
    "Can be further divided into:\n",
    "\n",
    " - Discrete: Whole numbers (countable).\n",
    " - Continuous: Any value within a range (measurable).\n",
    "\n",
    "Examples:\n",
    "\n",
    "- Discrete: Number of students in a class (1, 2, 3, …).\n",
    "- Continuous: Height of students (e.g., 5.7 ft, 6.1 ft)."
   ]
  },
  {
   "cell_type": "markdown",
   "id": "3fe7109a-bec9-46e3-93a3-09e470aea0f1",
   "metadata": {},
   "source": [
    " - **Qualitative Variables (Categorical)** :- Variables that represent categories or labels rather than numbers.\n",
    "\n",
    "Can be further divided into:\n",
    "\n",
    " - Nominal: Categories without any order.\n",
    " - Ordinal: Categories with a meaningful order.\n",
    "\n",
    "Examples:\n",
    "\n",
    "- Nominal: Eye color (Blue, Brown, Green).\n",
    "- Ordinal: Education level (Primary, Secondary, College)."
   ]
  },
  {
   "cell_type": "markdown",
   "id": "8f37439a-a37c-4258-a3aa-be4094a4f9a7",
   "metadata": {
    "jp-MarkdownHeadingCollapsed": true
   },
   "source": [
    "#### Variable Measurement Scales"
   ]
  },
  {
   "cell_type": "markdown",
   "id": "3ec5ebdf-1b0c-4fd5-a90c-b6525d3c51fa",
   "metadata": {},
   "source": [
    "There are four main types:\n",
    "\n",
    "1. **Nominal Scale** :- Categories without a specific order.(Blood type (A, B, AB, O).)\n",
    "2. **Ordinal Scale** :- Categories with a meaningful order but no fixed interval.(Movie ratings (poor, average, excellent).)\n",
    "3. **Interval Scale** :- Numeric values with equal differences but no true zero.(Temperature in Celsius (0°C does not mean \"no temperature\").)\n",
    "4. **Ratio Scale** :- Numeric values with equal differences and a true zero.(Weight (0 kg means no weight).)"
   ]
  },
  {
   "cell_type": "markdown",
   "id": "f5ac5b47-6f6b-4a38-8d3c-619edf32c772",
   "metadata": {},
   "source": [
    "### Frequency Distribution"
   ]
  },
  {
   "cell_type": "markdown",
   "id": "e8c670b2-8ad3-49b1-b788-7d419b7597a3",
   "metadata": {},
   "source": [
    "A frequency distribution is a table or graph that displays how often different values occur in a dataset.\n",
    "\n",
    "**Real-world Example**\n",
    "\n",
    "A survey records the number of hours students study per week:\n",
    "- 0-5 hours: 10 students\n",
    "- 6-10 hours: 25 students\n",
    "- 11-15 hours: 30 students\n",
    "- 16+ hours: 15 students\n",
    "\n",
    "This distribution helps in understanding the study habits of students."
   ]
  }
 ],
 "metadata": {
  "kernelspec": {
   "display_name": "Python 3 (ipykernel)",
   "language": "python",
   "name": "python3"
  },
  "language_info": {
   "codemirror_mode": {
    "name": "ipython",
    "version": 3
   },
   "file_extension": ".py",
   "mimetype": "text/x-python",
   "name": "python",
   "nbconvert_exporter": "python",
   "pygments_lexer": "ipython3",
   "version": "3.12.4"
  }
 },
 "nbformat": 4,
 "nbformat_minor": 5
}
