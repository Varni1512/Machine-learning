{
 "cells": [
  {
   "cell_type": "markdown",
   "id": "5bfe0f24-645e-4241-94de-4d59caf1d69f",
   "metadata": {},
   "source": [
    "### Intoduction to Probability"
   ]
  },
  {
   "cell_type": "code",
   "execution_count": null,
   "id": "de3d572d-c1a7-4def-a916-c0c4a9bb3202",
   "metadata": {},
   "outputs": [],
   "source": []
  }
 ],
 "metadata": {
  "kernelspec": {
   "display_name": "Python 3 (ipykernel)",
   "language": "python",
   "name": "python3"
  },
  "language_info": {
   "codemirror_mode": {
    "name": "ipython",
    "version": 3
   },
   "file_extension": ".py",
   "mimetype": "text/x-python",
   "name": "python",
   "nbconvert_exporter": "python",
   "pygments_lexer": "ipython3",
   "version": "3.12.4"
  }
 },
 "nbformat": 4,
 "nbformat_minor": 5
}
