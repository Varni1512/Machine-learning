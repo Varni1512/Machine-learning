{
 "cells": [
  {
   "cell_type": "markdown",
   "id": "5bfe0f24-645e-4241-94de-4d59caf1d69f",
   "metadata": {
    "jp-MarkdownHeadingCollapsed": true
   },
   "source": [
    "### Intoduction to Probability"
   ]
  },
  {
   "cell_type": "markdown",
   "id": "310c6c4a-1494-4fbd-8e81-069ade4cf469",
   "metadata": {},
   "source": [
    "Probability is a measure of how likely an event is to occur. It quantifies uncertainty and expresses it as a number between 0 and 1, where:\n",
    "\n",
    " - 0 means the event is impossible.\n",
    " - 1 means the event is certain.\n",
    " - A value in between represents a degree of likelihood."
   ]
  },
  {
   "cell_type": "markdown",
   "id": "52f2b770-341b-4203-890d-1959a67ae565",
   "metadata": {
    "jp-MarkdownHeadingCollapsed": true
   },
   "source": [
    "### Basic Probability"
   ]
  },
  {
   "cell_type": "markdown",
   "id": "9ab1b224-89a7-4036-908d-58fa4ed4d30b",
   "metadata": {},
   "source": [
    "Probability measures the likelihood of an event occurring, expressed as a number between 0 (impossible) and 1 (certain)."
   ]
  },
  {
   "cell_type": "markdown",
   "id": "d64e4793-f5e3-4fff-8f15-083698404a63",
   "metadata": {
    "jp-MarkdownHeadingCollapsed": true
   },
   "source": [
    "### Conditional Probability"
   ]
  },
  {
   "cell_type": "markdown",
   "id": "6734d506-d132-4035-9550-6bd4aecaebc2",
   "metadata": {},
   "source": [
    "The probability of an event occurring given that another event has already occurred."
   ]
  },
  {
   "cell_type": "markdown",
   "id": "7f1becfc-e8ad-4768-a2bb-bd6c33f2f66d",
   "metadata": {
    "jp-MarkdownHeadingCollapsed": true
   },
   "source": [
    "###  Bayes’ Theorem"
   ]
  },
  {
   "cell_type": "markdown",
   "id": "ee3e9b96-d41d-461b-9166-28e80e270f5d",
   "metadata": {},
   "source": [
    "A way to update the probability of an event based on new evidence."
   ]
  },
  {
   "cell_type": "markdown",
   "id": "4cd4854e-979b-4e55-87ca-c4292dce0eef",
   "metadata": {
    "jp-MarkdownHeadingCollapsed": true
   },
   "source": [
    "### Independence"
   ]
  },
  {
   "cell_type": "markdown",
   "id": "6f9f8216-0279-448a-b45e-8103f193ece4",
   "metadata": {},
   "source": [
    "Two events are independent if the occurrence of one does not affect the probability of the other."
   ]
  },
  {
   "cell_type": "markdown",
   "id": "ad66589a-dfc3-41c3-b92b-c206459e8039",
   "metadata": {
    "jp-MarkdownHeadingCollapsed": true
   },
   "source": [
    "### Random Variables"
   ]
  },
  {
   "cell_type": "markdown",
   "id": "512ef2e5-568a-4d83-90d2-f0e788a8df0f",
   "metadata": {},
   "source": [
    "A variable that represents the outcome of a random process, either discrete (countable values) or continuous (infinite values)."
   ]
  },
  {
   "cell_type": "markdown",
   "id": "abe626a6-a529-4569-ab4e-0500528c1570",
   "metadata": {
    "jp-MarkdownHeadingCollapsed": true
   },
   "source": [
    "### Probability Distributions"
   ]
  },
  {
   "cell_type": "markdown",
   "id": "a2683916-c4c3-43f5-aaf7-0564123f61b8",
   "metadata": {},
   "source": [
    "Describes how probabilities are distributed over the values of a random variable."
   ]
  },
  {
   "cell_type": "markdown",
   "id": "9388306e-0564-40e7-8322-cc017e4fef22",
   "metadata": {
    "jp-MarkdownHeadingCollapsed": true
   },
   "source": [
    "#### Discrete Distributions"
   ]
  },
  {
   "cell_type": "markdown",
   "id": "58cc6125-02d4-425d-ad8c-61740a0aba62",
   "metadata": {},
   "source": [
    " - **Binomial Distribution** : Models the number of successes in ( n ) independent trials.\n",
    " - **Poisson Distribution**: Models the number of events in a fixed interval."
   ]
  },
  {
   "cell_type": "markdown",
   "id": "284faabe-a8fd-4ac0-9134-52ece64d2a81",
   "metadata": {
    "jp-MarkdownHeadingCollapsed": true
   },
   "source": [
    "#### Continuous Distributions"
   ]
  },
  {
   "cell_type": "markdown",
   "id": "9d65c389-19cc-453f-851f-89e1c3f22504",
   "metadata": {},
   "source": [
    " - **Normal (Gaussian) Distribution** : Bell-shaped curve, common in natural phenomena."
   ]
  },
  {
   "cell_type": "markdown",
   "id": "e6c4eb2d-8a1f-4d4a-9b66-4e5d60f4c563",
   "metadata": {
    "jp-MarkdownHeadingCollapsed": true
   },
   "source": [
    "### Joint Probability"
   ]
  },
  {
   "cell_type": "markdown",
   "id": "f590ff8d-1382-4c2d-8b52-23d7068e6e75",
   "metadata": {},
   "source": [
    "The probability of two or more events happening together."
   ]
  },
  {
   "cell_type": "markdown",
   "id": "e3e99575-6ddd-487b-866c-54aa6fd555f3",
   "metadata": {
    "jp-MarkdownHeadingCollapsed": true
   },
   "source": [
    "### Marginal Probability"
   ]
  },
  {
   "cell_type": "markdown",
   "id": "7c98037e-c205-4542-881a-9eee56e2b223",
   "metadata": {},
   "source": [
    "The probability of an event irrespective of other variables."
   ]
  },
  {
   "cell_type": "markdown",
   "id": "43b5bd51-f557-4b4d-bd91-be46fd667013",
   "metadata": {
    "jp-MarkdownHeadingCollapsed": true
   },
   "source": [
    "### Law of Large Numbers"
   ]
  },
  {
   "cell_type": "markdown",
   "id": "991b7a8d-1166-4fad-95fc-1d5f9933ddeb",
   "metadata": {},
   "source": [
    "As the number of trials increases, the average of the results approaches the expected value."
   ]
  },
  {
   "cell_type": "markdown",
   "id": "80ef2990-60b5-4fe1-b52d-da259ec039e3",
   "metadata": {
    "jp-MarkdownHeadingCollapsed": true
   },
   "source": [
    "### Central Limit Theorem"
   ]
  },
  {
   "cell_type": "markdown",
   "id": "a2260d41-21e7-45ff-85a1-04c1292b825b",
   "metadata": {},
   "source": [
    "The sum (or average) of many independent random variables tends toward a normal distribution, regardless of their original distribution."
   ]
  }
 ],
 "metadata": {
  "kernelspec": {
   "display_name": "Python 3 (ipykernel)",
   "language": "python",
   "name": "python3"
  },
  "language_info": {
   "codemirror_mode": {
    "name": "ipython",
    "version": 3
   },
   "file_extension": ".py",
   "mimetype": "text/x-python",
   "name": "python",
   "nbconvert_exporter": "python",
   "pygments_lexer": "ipython3",
   "version": "3.12.4"
  }
 },
 "nbformat": 4,
 "nbformat_minor": 5
}
