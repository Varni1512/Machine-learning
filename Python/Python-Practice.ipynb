{
 "cells": [
  {
   "cell_type": "markdown",
   "id": "7eb3802a-c085-4df8-8e08-57c80059f151",
   "metadata": {
    "jp-MarkdownHeadingCollapsed": true
   },
   "source": [
    "### Variables & Data Types"
   ]
  },
  {
   "cell_type": "markdown",
   "id": "74b6feff-617c-4872-9ec2-a63f1e007d24",
   "metadata": {},
   "source": [
    "Variables are used to store data in Python. Python is dynamically typed, meaning you don’t need to declare the type of a variable. Common data types include:\n",
    " - int (integers, e.g., 5)\n",
    " - float (floating-point numbers, e.g., 3.14)\n",
    " - str (strings, e.g., \"hello\")\n",
    " - bool (booleans, e.g., True, False)"
   ]
  },
  {
   "cell_type": "code",
   "execution_count": 1,
   "id": "53d70958-9df9-462a-a0f0-f70536493c1d",
   "metadata": {},
   "outputs": [],
   "source": [
    "x = 10        # int\n",
    "y = 3.14      # float\n",
    "name = \"Varni\" # str\n",
    "is_active = True  # bool"
   ]
  },
  {
   "cell_type": "code",
   "execution_count": 2,
   "id": "1a6355e5-1e7d-4c8e-9126-12e770631bda",
   "metadata": {},
   "outputs": [
    {
     "name": "stdout",
     "output_type": "stream",
     "text": [
      "10 3.14 Varni True\n"
     ]
    }
   ],
   "source": [
    "print(x, y, name, is_active)"
   ]
  },
  {
   "cell_type": "markdown",
   "id": "16f73266-d406-4c81-89ae-6d13a5f564f6",
   "metadata": {},
   "source": [
    " - Practice Question"
   ]
  },
  {
   "cell_type": "code",
   "execution_count": 3,
   "id": "3d6cfb3e-734a-4c2c-98f9-2fc05fc8c958",
   "metadata": {},
   "outputs": [
    {
     "name": "stdout",
     "output_type": "stream",
     "text": [
      "25\n"
     ]
    }
   ],
   "source": [
    "#Q1. Create a variable age with value 25 and print it.\n",
    "\n",
    "age = 25\n",
    "print(age)"
   ]
  },
  {
   "cell_type": "code",
   "execution_count": 4,
   "id": "e549850f-f7e0-489a-9cf8-ab94ade72fe7",
   "metadata": {},
   "outputs": [
    {
     "name": "stdout",
     "output_type": "stream",
     "text": [
      "7\n"
     ]
    }
   ],
   "source": [
    "#Q2. Assign a float value 7.5 to a variable weight and convert it to an integer.\n",
    "\n",
    "weight = 7.5\n",
    "weight_int = int(weight)\n",
    "print(weight_int) "
   ]
  },
  {
   "cell_type": "code",
   "execution_count": 5,
   "id": "ae7203ba-e30f-4ac7-a967-b82fa8442ab9",
   "metadata": {},
   "outputs": [
    {
     "name": "stdout",
     "output_type": "stream",
     "text": [
      "8\n"
     ]
    }
   ],
   "source": [
    "#Q3. Create a string variable city with value \"New York\" and print its length using len().\n",
    "\n",
    "city = \"New York\"\n",
    "print(len(city))  "
   ]
  },
  {
   "cell_type": "code",
   "execution_count": 6,
   "id": "afc48e78-80aa-407b-b92f-8c20daa63702",
   "metadata": {},
   "outputs": [
    {
     "name": "stdout",
     "output_type": "stream",
     "text": [
      "<class 'bool'>\n"
     ]
    }
   ],
   "source": [
    "#Q4. Create a boolean variable is_student set to False and print its type using type()\n",
    "\n",
    "is_student = False\n",
    "print(type(is_student))  "
   ]
  },
  {
   "cell_type": "code",
   "execution_count": 7,
   "id": "00d6b3b2-f8b4-4010-91d4-8ea32827b1b7",
   "metadata": {},
   "outputs": [
    {
     "name": "stdout",
     "output_type": "stream",
     "text": [
      "Math 95\n"
     ]
    }
   ],
   "source": [
    "#Q5. Combine an integer score = 95 and a string subject = \"Math\" into a single string and print it.\n",
    "\n",
    "score = 95\n",
    "subject = \"Math\"\n",
    "result = subject + \" \" + str(score)\n",
    "print(result) "
   ]
  },
  {
   "cell_type": "markdown",
   "id": "6a23f2e1-804b-4235-8122-3efe618e173c",
   "metadata": {
    "jp-MarkdownHeadingCollapsed": true
   },
   "source": [
    "### Operators"
   ]
  },
  {
   "cell_type": "markdown",
   "id": "888dbd15-7086-457b-b4fa-ab9b9bcf0bd1",
   "metadata": {},
   "source": [
    "Explanation: Operators are used to perform operations on variables and values. Types include:\n",
    " - Arithmetic: +, -, *, /, // (floor division), % (modulus), ** (exponent)\n",
    " - Comparison: ==, !=, <, >, <=, >=\n",
    " - Logical: and, or, not"
   ]
  },
  {
   "cell_type": "code",
   "execution_count": 8,
   "id": "d0d12f8a-23f5-4ca5-a4ec-83ae82d45153",
   "metadata": {},
   "outputs": [
    {
     "name": "stdout",
     "output_type": "stream",
     "text": [
      "13\n",
      "7\n",
      "30\n",
      "3.3333333333333335\n",
      "3\n",
      "1\n",
      "1000\n"
     ]
    }
   ],
   "source": [
    "a = 10\n",
    "b = 3\n",
    "print(a + b)\n",
    "print(a - b)\n",
    "print(a * b)\n",
    "print(a / b)\n",
    "print(a // b)\n",
    "print(a % b)  \n",
    "print(a ** b) "
   ]
  },
  {
   "cell_type": "code",
   "execution_count": 9,
   "id": "7d77a534-05c5-48ba-8298-01f84e39c96a",
   "metadata": {},
   "outputs": [
    {
     "name": "stdout",
     "output_type": "stream",
     "text": [
      "False\n",
      "True\n",
      "True\n",
      "False\n",
      "True\n",
      "False\n"
     ]
    }
   ],
   "source": [
    "x = 5\n",
    "y = 7 \n",
    "print(x > y)      \n",
    "print(x < y)     \n",
    "print(x <= y)\n",
    "print(x >= y)      \n",
    "print(x != y)     \n",
    "print(x == y)"
   ]
  },
  {
   "cell_type": "code",
   "execution_count": 10,
   "id": "d098e3f8-ad34-41ba-be91-4ac308330404",
   "metadata": {},
   "outputs": [
    {
     "name": "stdout",
     "output_type": "stream",
     "text": [
      "False\n",
      "True\n",
      "False\n"
     ]
    }
   ],
   "source": [
    "p = True\n",
    "q = False\n",
    "print(p and q)    \n",
    "print(p or q)     \n",
    "print(not p)     "
   ]
  },
  {
   "cell_type": "markdown",
   "id": "de034f9d-cc46-4324-b66e-9dc5f2a839bc",
   "metadata": {},
   "source": [
    " - Practice Question"
   ]
  },
  {
   "cell_type": "code",
   "execution_count": 11,
   "id": "4ea40c47-95bf-40ee-a89a-cf65bca51690",
   "metadata": {},
   "outputs": [
    {
     "name": "stdout",
     "output_type": "stream",
     "text": [
      "14\n"
     ]
    }
   ],
   "source": [
    "#Q1. Calculate 8 + 3 * 2 and print the result.\n",
    "\n",
    "result = 8 + 3 * 2\n",
    "print(result)  "
   ]
  },
  {
   "cell_type": "code",
   "execution_count": 12,
   "id": "b404188f-0be6-4a09-ac9e-7f29c5fe709f",
   "metadata": {},
   "outputs": [
    {
     "name": "stdout",
     "output_type": "stream",
     "text": [
      "2\n"
     ]
    }
   ],
   "source": [
    "#Q2. Find the remainder when 17 is divided by 5.\n",
    "\n",
    "remainder = 17 % 5\n",
    "print(remainder)  "
   ]
  },
  {
   "cell_type": "code",
   "execution_count": 13,
   "id": "c125a475-43b1-44ed-91d1-05725ce8652e",
   "metadata": {},
   "outputs": [
    {
     "name": "stdout",
     "output_type": "stream",
     "text": [
      "True\n"
     ]
    }
   ],
   "source": [
    "#Q3. Check if 10 is greater than 7 and less than 15 using logical and.\n",
    "\n",
    "result = 10 > 7 and 10 < 15\n",
    "print(result)  "
   ]
  },
  {
   "cell_type": "code",
   "execution_count": 14,
   "id": "19584b04-ba60-4ff6-98a0-103701145fcb",
   "metadata": {},
   "outputs": [
    {
     "name": "stdout",
     "output_type": "stream",
     "text": [
      "16\n"
     ]
    }
   ],
   "source": [
    "#Q4. Compute 2 raised to the power of 4.\n",
    "\n",
    "power = 2 ** 4\n",
    "print(power)  "
   ]
  },
  {
   "cell_type": "code",
   "execution_count": 15,
   "id": "6a015c41-81ee-4a4e-9360-6f574cdcd302",
   "metadata": {},
   "outputs": [
    {
     "name": "stdout",
     "output_type": "stream",
     "text": [
      "True\n"
     ]
    }
   ],
   "source": [
    "#Q5. Compare if 25 is not equal to 30 and print the result.\n",
    "\n",
    "comparison = 25 != 30\n",
    "print(comparison)  "
   ]
  },
  {
   "cell_type": "markdown",
   "id": "19ff4cfd-849c-4ab8-8ef1-bffe51116cac",
   "metadata": {
    "jp-MarkdownHeadingCollapsed": true
   },
   "source": [
    "### Conditional Statements"
   ]
  },
  {
   "cell_type": "markdown",
   "id": "51b3a616-8eaf-4b2e-8b94-c49c47376614",
   "metadata": {},
   "source": [
    "Used to execute code based on conditions. \n",
    " - Keywords: if, elif, else."
   ]
  },
  {
   "cell_type": "code",
   "execution_count": 16,
   "id": "165a5499-2eaf-496f-9def-eee6718a5fd5",
   "metadata": {},
   "outputs": [
    {
     "name": "stdout",
     "output_type": "stream",
     "text": [
      "Adult\n"
     ]
    }
   ],
   "source": [
    "age = 18\n",
    "if age >= 18:\n",
    "    print(\"Adult\")\n",
    "else:\n",
    "    print(\"Minor\")"
   ]
  },
  {
   "cell_type": "code",
   "execution_count": 17,
   "id": "582654e1-9cd4-43ef-9030-8f2001f8c555",
   "metadata": {},
   "outputs": [
    {
     "name": "stdout",
     "output_type": "stream",
     "text": [
      "B\n"
     ]
    }
   ],
   "source": [
    "score = 85\n",
    "if score >= 90:\n",
    "    print(\"A\")\n",
    "elif score >= 80:\n",
    "    print(\"B\")\n",
    "else:\n",
    "    print(\"C\")"
   ]
  },
  {
   "cell_type": "code",
   "execution_count": 18,
   "id": "1ada0a5a-2560-46ac-b12b-97a49e7db50f",
   "metadata": {},
   "outputs": [
    {
     "name": "stdout",
     "output_type": "stream",
     "text": [
      "Positive\n"
     ]
    }
   ],
   "source": [
    "x = 10\n",
    "if x > 0:\n",
    "    print(\"Positive\")\n",
    "elif x == 0:\n",
    "    print(\"Zero\")\n",
    "else:\n",
    "    print(\"Negative\")"
   ]
  },
  {
   "cell_type": "markdown",
   "id": "e2a7c77b-b629-4c99-9455-356fe86006ad",
   "metadata": {},
   "source": [
    " - Practice Question"
   ]
  },
  {
   "cell_type": "code",
   "execution_count": 19,
   "id": "70e6cd6f-1a5e-456c-ac2e-e77a08c4e7f6",
   "metadata": {},
   "outputs": [
    {
     "name": "stdout",
     "output_type": "stream",
     "text": [
      "Positive\n"
     ]
    }
   ],
   "source": [
    "#Q1. Check if a number num = 7 is positive and print \"Positive\".\n",
    "\n",
    "num = 7\n",
    "if num > 0:\n",
    "    print(\"Positive\")  "
   ]
  },
  {
   "cell_type": "code",
   "execution_count": 20,
   "id": "ed9b55a3-c864-4549-ba5d-40f77035a96d",
   "metadata": {},
   "outputs": [
    {
     "name": "stdout",
     "output_type": "stream",
     "text": [
      "C\n"
     ]
    }
   ],
   "source": [
    "#Q2. Write a program to check if grade = 75 is A (>=90), B (>=80), or C (<80).\n",
    "\n",
    "grade = 75\n",
    "if grade >= 90:\n",
    "    print(\"A\")\n",
    "elif grade >= 80:\n",
    "    print(\"B\")\n",
    "else:\n",
    "    print(\"C\")  "
   ]
  },
  {
   "cell_type": "code",
   "execution_count": 21,
   "id": "d208d3f2-61e9-4a04-8766-e868258d104d",
   "metadata": {},
   "outputs": [
    {
     "name": "stdout",
     "output_type": "stream",
     "text": [
      "Zero\n"
     ]
    }
   ],
   "source": [
    "#Q3. Check if x = 0 is zero and print \"Zero\".\n",
    "\n",
    "x = 0\n",
    "if x == 0:\n",
    "    print(\"Zero\")  "
   ]
  },
  {
   "cell_type": "code",
   "execution_count": 22,
   "id": "b0047deb-4fb2-467f-9df1-75d75d1f657d",
   "metadata": {},
   "outputs": [
    {
     "name": "stdout",
     "output_type": "stream",
     "text": [
      "Warm\n"
     ]
    }
   ],
   "source": [
    "#Q4. Determine if temp = 25 is \"Hot\" (>=30), \"Warm\" (>=20), or \"Cold\" (<20).\n",
    "\n",
    "temp = 25\n",
    "if temp >= 30:\n",
    "    print(\"Hot\")\n",
    "elif temp >= 20:\n",
    "    print(\"Warm\")\n",
    "else:\n",
    "    print(\"Cold\")  "
   ]
  },
  {
   "cell_type": "code",
   "execution_count": 23,
   "id": "176a9b4e-4ff3-406e-9723-a2c1f1d99a25",
   "metadata": {},
   "outputs": [
    {
     "name": "stdout",
     "output_type": "stream",
     "text": [
      "Even\n"
     ]
    }
   ],
   "source": [
    "#Q5. Check if a number n = 10 is even or odd.\n",
    "\n",
    "n = 10\n",
    "if n % 2 == 0:\n",
    "    print(\"Even\")\n",
    "else:\n",
    "    print(\"Odd\")  "
   ]
  },
  {
   "cell_type": "markdown",
   "id": "a983517d-7755-47bf-858e-ff1544db5af3",
   "metadata": {
    "jp-MarkdownHeadingCollapsed": true
   },
   "source": [
    "### Loops"
   ]
  },
  {
   "cell_type": "markdown",
   "id": "c8ac55b2-b0e3-4732-b89d-707d1e948960",
   "metadata": {},
   "source": [
    "Loops repeat code. \n",
    " - for (iterate over a sequence)\n",
    " - while (repeat until condition is False).\n"
   ]
  },
  {
   "cell_type": "code",
   "execution_count": 24,
   "id": "8afbe0bb-985b-4846-855a-9e03c45516a0",
   "metadata": {},
   "outputs": [
    {
     "name": "stdout",
     "output_type": "stream",
     "text": [
      "0\n",
      "1\n",
      "2\n",
      "3\n",
      "4\n"
     ]
    }
   ],
   "source": [
    "for i in range(5):\n",
    "    print(i)"
   ]
  },
  {
   "cell_type": "code",
   "execution_count": 25,
   "id": "ee212d13-c881-4399-b2ba-2ffaba69d113",
   "metadata": {},
   "outputs": [
    {
     "name": "stdout",
     "output_type": "stream",
     "text": [
      "0\n",
      "1\n",
      "2\n"
     ]
    }
   ],
   "source": [
    "count = 0\n",
    "while count < 3:\n",
    "    print(count)\n",
    "    count += 1"
   ]
  },
  {
   "cell_type": "code",
   "execution_count": 26,
   "id": "b55a58d1-284d-43ee-b663-e92624081da3",
   "metadata": {},
   "outputs": [
    {
     "name": "stdout",
     "output_type": "stream",
     "text": [
      "apple\n",
      "banana\n",
      "cherry\n"
     ]
    }
   ],
   "source": [
    "fruits = [\"apple\", \"banana\", \"cherry\"]\n",
    "for fruit in fruits:\n",
    "    print(fruit)"
   ]
  },
  {
   "cell_type": "markdown",
   "id": "629f1e47-36da-4456-8ddd-ecaa3b771e4f",
   "metadata": {},
   "source": [
    " - Practice Question"
   ]
  },
  {
   "cell_type": "code",
   "execution_count": 27,
   "id": "99cc11ba-deaf-4442-86f0-ac80046d532c",
   "metadata": {},
   "outputs": [
    {
     "name": "stdout",
     "output_type": "stream",
     "text": [
      "1\n",
      "2\n",
      "3\n",
      "4\n",
      "5\n"
     ]
    }
   ],
   "source": [
    "#Q1. Print numbers from 1 to 5 using a for loop.\n",
    "\n",
    "for i in range(1, 6):\n",
    "    print(i)  "
   ]
  },
  {
   "cell_type": "code",
   "execution_count": 28,
   "id": "8bc1af50-0e63-4d96-b607-a24f197bf526",
   "metadata": {},
   "outputs": [
    {
     "name": "stdout",
     "output_type": "stream",
     "text": [
      "10\n",
      "9\n",
      "8\n",
      "7\n"
     ]
    }
   ],
   "source": [
    "#Q2. Use a while loop to print numbers from 10 down to 7.\n",
    "\n",
    "num = 10\n",
    "while num >= 7:\n",
    "    print(num)\n",
    "    num -= 1  "
   ]
  },
  {
   "cell_type": "code",
   "execution_count": 29,
   "id": "cfd0b599-17c6-4542-bfe0-0495366210f6",
   "metadata": {},
   "outputs": [
    {
     "name": "stdout",
     "output_type": "stream",
     "text": [
      "P\n",
      "y\n",
      "t\n",
      "h\n",
      "o\n",
      "n\n"
     ]
    }
   ],
   "source": [
    "#Q3. Print each character of the string \"Python\" using a for loop.\n",
    "\n",
    "for char in \"Python\":\n",
    "    print(char)  "
   ]
  },
  {
   "cell_type": "code",
   "execution_count": 30,
   "id": "928ad536-cd53-40ef-80d7-91eb6ecf12db",
   "metadata": {},
   "outputs": [
    {
     "name": "stdout",
     "output_type": "stream",
     "text": [
      "2\n",
      "4\n",
      "6\n",
      "8\n",
      "10\n"
     ]
    }
   ],
   "source": [
    "#Q4. Print even numbers from 2 to 10 using a for loop.\n",
    "\n",
    "for i in range(2,11,2):\n",
    "    print(i)"
   ]
  },
  {
   "cell_type": "code",
   "execution_count": 31,
   "id": "8aa05ba0-cc45-49ac-9e8f-812925bde997",
   "metadata": {},
   "outputs": [
    {
     "name": "stdout",
     "output_type": "stream",
     "text": [
      "Hello\n",
      "Hello\n",
      "Hello\n"
     ]
    }
   ],
   "source": [
    "#Q5. Use a while loop to print \"Hello\" 3 times.\n",
    "\n",
    "count = 0\n",
    "while count < 3:\n",
    "    print(\"Hello\")\n",
    "    count += 1  "
   ]
  },
  {
   "cell_type": "markdown",
   "id": "71ffe969-9851-42e6-82dc-8259f84f4db5",
   "metadata": {
    "jp-MarkdownHeadingCollapsed": true
   },
   "source": [
    "### Functions"
   ]
  },
  {
   "cell_type": "markdown",
   "id": "5fe97212-d022-4067-a1ae-e628ce6551a0",
   "metadata": {},
   "source": [
    "Functions are reusable blocks of code defined with def. They can take parameters and return values."
   ]
  },
  {
   "cell_type": "code",
   "execution_count": 32,
   "id": "0e475517-81e0-4f30-a4e4-ac3dc34abe4e",
   "metadata": {},
   "outputs": [
    {
     "name": "stdout",
     "output_type": "stream",
     "text": [
      "Hello!\n"
     ]
    }
   ],
   "source": [
    "def greet():\n",
    "    print(\"Hello!\")\n",
    "greet()"
   ]
  },
  {
   "cell_type": "code",
   "execution_count": 33,
   "id": "cb40d3ea-e53e-40b6-8a8d-50df9c106650",
   "metadata": {},
   "outputs": [
    {
     "name": "stdout",
     "output_type": "stream",
     "text": [
      "8\n"
     ]
    }
   ],
   "source": [
    "def add(a, b):\n",
    "    return a + b\n",
    "result = add(3, 5)\n",
    "print(result)"
   ]
  },
  {
   "cell_type": "code",
   "execution_count": 34,
   "id": "4dbcefdd-0a06-4712-9f26-e5d221a64d98",
   "metadata": {},
   "outputs": [
    {
     "name": "stdout",
     "output_type": "stream",
     "text": [
      "16\n"
     ]
    }
   ],
   "source": [
    "def square(num):\n",
    "    return num ** 2\n",
    "print(square(4))"
   ]
  },
  {
   "cell_type": "markdown",
   "id": "fb16b985-5ad3-470d-9ab1-c7d3f7693ad6",
   "metadata": {},
   "source": [
    " - Practice Question"
   ]
  },
  {
   "cell_type": "code",
   "execution_count": 35,
   "id": "80ea53f0-7ac0-49f1-a5bc-e68556cf6f36",
   "metadata": {},
   "outputs": [
    {
     "name": "stdout",
     "output_type": "stream",
     "text": [
      "Hi there!\n"
     ]
    }
   ],
   "source": [
    "#Q1. Define a function say_hi that prints \"Hi there!\".\n",
    "\n",
    "def say_hi():\n",
    "    print(\"Hi there!\")\n",
    "say_hi()  "
   ]
  },
  {
   "cell_type": "code",
   "execution_count": 36,
   "id": "8c9bd446-49cb-427d-afde-22484e3d4685",
   "metadata": {},
   "outputs": [
    {
     "name": "stdout",
     "output_type": "stream",
     "text": [
      "20\n"
     ]
    }
   ],
   "source": [
    "#Q2. Create a function multiply that takes two numbers and returns their product.\n",
    "\n",
    "def multiply(a, b):\n",
    "    return a * b\n",
    "print(multiply(4, 5))  "
   ]
  },
  {
   "cell_type": "code",
   "execution_count": 37,
   "id": "07624937-8eaa-4e4d-9568-d9288ea8dc8d",
   "metadata": {},
   "outputs": [
    {
     "name": "stdout",
     "output_type": "stream",
     "text": [
      "True\n"
     ]
    }
   ],
   "source": [
    "#Q3. Write a function is_even that checks if a number is even and returns True or False.\n",
    "\n",
    "def is_even(num):\n",
    "    return num % 2 == 0\n",
    "print(is_even(6))  "
   ]
  },
  {
   "cell_type": "code",
   "execution_count": 38,
   "id": "c5ef0ed4-1ecd-487f-b651-2c06583df16d",
   "metadata": {},
   "outputs": [
    {
     "name": "stdout",
     "output_type": "stream",
     "text": [
      "7\n"
     ]
    }
   ],
   "source": [
    "#Q4. Define a function max_of_two that returns the larger of two numbers.\n",
    "\n",
    "def max_of_two(a, b):\n",
    "    if a > b:\n",
    "        return a\n",
    "    return b\n",
    "print(max_of_two(7, 3))  "
   ]
  },
  {
   "cell_type": "code",
   "execution_count": 39,
   "id": "58dc8b02-f668-4951-992c-19c48faf0c2e",
   "metadata": {},
   "outputs": [
    {
     "name": "stdout",
     "output_type": "stream",
     "text": [
      "8\n"
     ]
    }
   ],
   "source": [
    "#Q5. Create a function cube that returns the cube of a number.\n",
    "\n",
    "def cube(num):\n",
    "    return num ** 3\n",
    "print(cube(2))  "
   ]
  },
  {
   "cell_type": "markdown",
   "id": "0b2eebdf-1db7-4473-825b-b32f194044d5",
   "metadata": {
    "jp-MarkdownHeadingCollapsed": true
   },
   "source": [
    "### Exception Handling"
   ]
  },
  {
   "cell_type": "markdown",
   "id": "084a637a-92e8-4cd6-91f8-635e63934de3",
   "metadata": {},
   "source": [
    "Used to handle errors gracefully with try, except, else, and finally."
   ]
  },
  {
   "cell_type": "code",
   "execution_count": 40,
   "id": "3174152a-d483-466d-8451-3bffd852d9cb",
   "metadata": {},
   "outputs": [
    {
     "name": "stdout",
     "output_type": "stream",
     "text": [
      "Cannot divide by zero!\n"
     ]
    }
   ],
   "source": [
    "try:\n",
    "    result = 10 / 0\n",
    "except ZeroDivisionError:\n",
    "    print(\"Cannot divide by zero!\")"
   ]
  },
  {
   "cell_type": "code",
   "execution_count": 41,
   "id": "b957bd62-512a-4505-9ec5-0e88057088df",
   "metadata": {},
   "outputs": [
    {
     "name": "stdin",
     "output_type": "stream",
     "text": [
      "Enter a number:  12\n"
     ]
    },
    {
     "name": "stdout",
     "output_type": "stream",
     "text": [
      "Success: 12\n"
     ]
    }
   ],
   "source": [
    "try:\n",
    "    num = int(input(\"Enter a number: \"))\n",
    "except ValueError:\n",
    "    print(\"Invalid input!\")\n",
    "else:\n",
    "    print(\"Success:\", num)"
   ]
  },
  {
   "cell_type": "code",
   "execution_count": 42,
   "id": "7cd5e534-a894-4880-9a0d-11bcd676a5dd",
   "metadata": {},
   "outputs": [
    {
     "name": "stdin",
     "output_type": "stream",
     "text": [
      "Enter a number:  ab\n"
     ]
    },
    {
     "name": "stdout",
     "output_type": "stream",
     "text": [
      "Invalid input!\n"
     ]
    }
   ],
   "source": [
    "try:\n",
    "    num = int(input(\"Enter a number: \"))\n",
    "except ValueError:\n",
    "    print(\"Invalid input!\")\n",
    "else:\n",
    "    print(\"Success:\", num)"
   ]
  },
  {
   "cell_type": "code",
   "execution_count": 43,
   "id": "95077b99-bec7-4e17-b007-a989a86635f0",
   "metadata": {},
   "outputs": [
    {
     "name": "stdout",
     "output_type": "stream",
     "text": [
      "Execution complete.\n"
     ]
    }
   ],
   "source": [
    "try:\n",
    "    file = open(\"test.txt\", \"r\")\n",
    "except FileNotFoundError:\n",
    "    print(\"File not found!\")\n",
    "finally:\n",
    "    print(\"Execution complete.\")"
   ]
  },
  {
   "cell_type": "markdown",
   "id": "2246d517-64f4-44b5-a45a-38daafdb5958",
   "metadata": {},
   "source": [
    " - Practice Question"
   ]
  },
  {
   "cell_type": "code",
   "execution_count": 44,
   "id": "ab9f97a7-854f-4150-96b9-ecfbbf2e47ef",
   "metadata": {},
   "outputs": [
    {
     "name": "stdout",
     "output_type": "stream",
     "text": [
      "Error!\n"
     ]
    }
   ],
   "source": [
    "#Q1. Handle a division by zero error and print \"Error!\".\n",
    "\n",
    "try:\n",
    "    result = 5 / 0\n",
    "except ZeroDivisionError:\n",
    "    print(\"Error!\")  "
   ]
  },
  {
   "cell_type": "code",
   "execution_count": 45,
   "id": "400c2729-1cf0-4581-914d-e206a5c7e89f",
   "metadata": {},
   "outputs": [
    {
     "name": "stdout",
     "output_type": "stream",
     "text": [
      "Not a number!\n"
     ]
    }
   ],
   "source": [
    "#Q2. Convert a string to an integer and handle invalid input.\n",
    "\n",
    "try:\n",
    "    num = int(\"xyz\")\n",
    "except ValueError:\n",
    "    print(\"Not a number!\")  "
   ]
  },
  {
   "cell_type": "code",
   "execution_count": 46,
   "id": "3a7988f3-fd01-4435-80d2-c5ea7e5a1a12",
   "metadata": {},
   "outputs": [
    {
     "name": "stdout",
     "output_type": "stream",
     "text": [
      "File not found!\n"
     ]
    }
   ],
   "source": [
    "#Q3. Try opening a non-existent file \"data.txt\" and handle the error.\n",
    "\n",
    "try:\n",
    "    file = open(\"data.txt\", \"r\")\n",
    "except FileNotFoundError:\n",
    "    print(\"File not found!\")  "
   ]
  },
  {
   "cell_type": "code",
   "execution_count": 47,
   "id": "925959cd-8725-4c8b-9092-36bc750b8e2e",
   "metadata": {},
   "outputs": [
    {
     "name": "stdin",
     "output_type": "stream",
     "text": [
      "Enter numerator:  5\n",
      "Enter denominator:  0\n"
     ]
    },
    {
     "name": "stdout",
     "output_type": "stream",
     "text": [
      "Cannot divide by zero!\n"
     ]
    }
   ],
   "source": [
    "#Q4. Write a program to divide two numbers from user input and handle division by zero.\n",
    "\n",
    "try:\n",
    "    a = int(input(\"Enter numerator: \"))\n",
    "    b = int(input(\"Enter denominator: \"))\n",
    "    result = a / b\n",
    "except ZeroDivisionError:\n",
    "    print(\"Cannot divide by zero!\")\n",
    "else:\n",
    "    print(result)"
   ]
  },
  {
   "cell_type": "code",
   "execution_count": 48,
   "id": "cc247841-e271-4ee6-9e2e-2af71e514c47",
   "metadata": {},
   "outputs": [
    {
     "name": "stdout",
     "output_type": "stream",
     "text": [
      "Index out of range!\n"
     ]
    }
   ],
   "source": [
    "#Q5. Use try-except to check if a list index is out of range.\n",
    "\n",
    "lst = [1, 2, 3]\n",
    "try:\n",
    "    print(lst[5])\n",
    "except IndexError:\n",
    "    print(\"Index out of range!\")  "
   ]
  },
  {
   "cell_type": "markdown",
   "id": "b8d5752d-e741-4791-bffa-aa6688532816",
   "metadata": {
    "jp-MarkdownHeadingCollapsed": true
   },
   "source": [
    "### Lists, Tuples, Sets, Dictionaries"
   ]
  },
  {
   "cell_type": "markdown",
   "id": "4d4581ac-e6c7-4d10-9608-2ed77d52471c",
   "metadata": {},
   "source": [
    " - List: Ordered, mutable collection ([])\n",
    " - Tuple: Ordered, immutable collection (())\n",
    " - Set: Unordered, unique collection ({})\n",
    " - Dictionary: Key-value pairs ({key: value})"
   ]
  },
  {
   "cell_type": "code",
   "execution_count": 49,
   "id": "92ae38ce-bc6a-44fb-ae88-63eb1f7d04f0",
   "metadata": {},
   "outputs": [
    {
     "name": "stdout",
     "output_type": "stream",
     "text": [
      "[10, 20, 30, 40, 50]\n",
      "[10, 20, 30, 40, 50, 60, 70]\n",
      "[10, 20, 25, 30, 40, 50, 60, 70]\n",
      "[10, 20, 25, 40, 50, 60, 70]\n",
      "70\n",
      "[10, 20, 25, 40, 50, 60]\n",
      "3\n",
      "1\n",
      "[10, 20, 25, 40, 50, 60]\n",
      "[60, 50, 40, 25, 20, 10]\n",
      "[60, 50, 40, 25, 20, 10]\n",
      "[]\n"
     ]
    }
   ],
   "source": [
    "# list\n",
    "my_list = [10, 20, 30, 40]\n",
    "\n",
    "# Append: Add an element to the end\n",
    "my_list.append(50)\n",
    "print(my_list)  \n",
    "\n",
    "# Extend: Add multiple elements\n",
    "my_list.extend([60, 70])\n",
    "print(my_list)  \n",
    "\n",
    "# Insert: Add at specific index\n",
    "my_list.insert(2, 25)\n",
    "print(my_list)  \n",
    "\n",
    "# Remove: Remove first occurrence\n",
    "my_list.remove(30)\n",
    "print(my_list) \n",
    "\n",
    "# Pop: Remove and return the last element\n",
    "print(my_list.pop())  # 70\n",
    "print(my_list)  \n",
    "\n",
    "# Index: Find position of an element\n",
    "print(my_list.index(40))  \n",
    "\n",
    "# Count: Count occurrences of an element\n",
    "print(my_list.count(20))  \n",
    "\n",
    "# Sort: Sort in ascending order\n",
    "my_list.sort()\n",
    "print(my_list) \n",
    "\n",
    "# Reverse: Reverse the list\n",
    "my_list.reverse()\n",
    "print(my_list)  \n",
    "\n",
    "# Copy: Create a shallow copy\n",
    "new_list = my_list.copy()\n",
    "print(new_list)  \n",
    "\n",
    "# Clear: Remove all elements\n",
    "my_list.clear()\n",
    "print(my_list)  "
   ]
  },
  {
   "cell_type": "code",
   "execution_count": 50,
   "id": "d42df5c4-068d-46cc-8ba5-1ba0eab7b4f0",
   "metadata": {},
   "outputs": [
    {
     "name": "stdout",
     "output_type": "stream",
     "text": [
      "2\n",
      "2\n"
     ]
    }
   ],
   "source": [
    "# Tuple\n",
    "my_tuple = (10, 20, 30, 20, 40)\n",
    "\n",
    "# Count: Count occurrences of an element\n",
    "print(my_tuple.count(20))  \n",
    "\n",
    "# Index: Find position of first occurrence\n",
    "print(my_tuple.index(30))  \n"
   ]
  },
  {
   "cell_type": "code",
   "execution_count": 51,
   "id": "d545dc9d-1b75-4c94-ac1a-54a6da8e7765",
   "metadata": {},
   "outputs": [
    {
     "name": "stdout",
     "output_type": "stream",
     "text": [
      "{40, 10, 50, 20, 30}\n",
      "{70, 40, 10, 50, 20, 60, 30}\n",
      "{70, 40, 10, 50, 60, 30}\n",
      "70\n",
      "{80, 50, 40, 10, 60, 30}\n",
      "{50, 60}\n",
      "{40, 10, 30}\n",
      "{40, 10, 80, 30}\n",
      "False\n",
      "False\n",
      "set()\n"
     ]
    }
   ],
   "source": [
    "# Set\n",
    "my_set = {10, 20, 30, 40}\n",
    "\n",
    "# Add: Insert a single element\n",
    "my_set.add(50)\n",
    "print(my_set)  \n",
    "\n",
    "# Update: Add multiple elements\n",
    "my_set.update([60, 70])\n",
    "print(my_set)  \n",
    "\n",
    "# Remove: Remove an element (throws error if not found)\n",
    "my_set.remove(20)\n",
    "print(my_set) \n",
    "\n",
    "# Discard: Remove an element (no error if not found)\n",
    "my_set.discard(100)  \n",
    "\n",
    "# Pop: Remove a random element\n",
    "print(my_set.pop())  \n",
    "\n",
    "# Union: Combine two sets\n",
    "set2 = {50, 60, 80}\n",
    "print(my_set.union(set2))  \n",
    "\n",
    "# Intersection: Common elements\n",
    "print(my_set.intersection(set2)) \n",
    "\n",
    "# Difference: Elements in my_set but not in set2\n",
    "print(my_set.difference(set2))  \n",
    "\n",
    "# Symmetric Difference: Elements in either set but not both\n",
    "print(my_set.symmetric_difference(set2))  \n",
    "\n",
    "# Subset & Superset\n",
    "print(my_set.issubset(set2))  \n",
    "print(my_set.issuperset(set2))  \n",
    "\n",
    "# Clear: Remove all elements\n",
    "my_set.clear()\n",
    "print(my_set)  "
   ]
  },
  {
   "cell_type": "code",
   "execution_count": 52,
   "id": "56020fc9-bc27-4702-9107-5ff88e0de6b8",
   "metadata": {},
   "outputs": [
    {
     "name": "stdout",
     "output_type": "stream",
     "text": [
      "25\n",
      "dict_keys(['name', 'age', 'city'])\n",
      "dict_values(['Alice', 25, 'New York'])\n",
      "dict_items([('name', 'Alice'), ('age', 25), ('city', 'New York')])\n",
      "{'name': 'Alice', 'age': 25, 'city': 'New York', 'country': 'USA'}\n",
      "25\n",
      "{'name': 'Alice', 'city': 'New York', 'country': 'USA'}\n",
      "('country', 'USA')\n",
      "Female\n",
      "{'name': 'Alice', 'city': 'New York', 'gender': 'Female'}\n",
      "{'name': 'Alice', 'city': 'New York', 'gender': 'Female'}\n",
      "{}\n"
     ]
    }
   ],
   "source": [
    "# Dictionary\n",
    "my_dict = {'name': 'Alice', 'age': 25, 'city': 'New York'}\n",
    "\n",
    "# Get: Retrieve a value\n",
    "print(my_dict.get('age'))  \n",
    "\n",
    "# Keys: Get all keys\n",
    "print(my_dict.keys())  \n",
    "\n",
    "# Values: Get all values\n",
    "print(my_dict.values())  \n",
    "\n",
    "# Items: Get key-value pairs\n",
    "print(my_dict.items())  \n",
    "\n",
    "# Update: Merge another dictionary\n",
    "my_dict.update({'country': 'USA'})\n",
    "print(my_dict)  \n",
    "\n",
    "# Pop: Remove a key and return its value\n",
    "print(my_dict.pop('age')) \n",
    "print(my_dict)  \n",
    "\n",
    "# Popitem: Remove and return a random (key, value) pair\n",
    "print(my_dict.popitem())  \n",
    "\n",
    "# Setdefault: Get value, or set default if key not found\n",
    "print(my_dict.setdefault('gender', 'Female'))  \n",
    "print(my_dict)  \n",
    "\n",
    "# Copy: Create a shallow copy\n",
    "new_dict = my_dict.copy()\n",
    "print(new_dict)  \n",
    "\n",
    "# Clear: Remove all elements\n",
    "my_dict.clear()\n",
    "print(my_dict)  \n"
   ]
  },
  {
   "cell_type": "code",
   "execution_count": 53,
   "id": "159753cf-3742-4093-8bde-0594622d213d",
   "metadata": {},
   "outputs": [
    {
     "name": "stdout",
     "output_type": "stream",
     "text": [
      "5\n",
      "5\n",
      "7\n",
      "150\n",
      "[7, 5, 3, 1]\n",
      "True\n",
      "True\n",
      "0 10\n",
      "1 20\n",
      "2 30\n",
      "3 40\n",
      "4 50\n",
      "[('Alice', 85), ('Bob', 90), ('Charlie', 95)]\n"
     ]
    }
   ],
   "source": [
    "# Built-in Functions for All Collections\n",
    "my_list = [10, 20, 30, 40, 50]\n",
    "my_tuple = (5, 15, 25, 35)\n",
    "my_set = {1, 3, 5, 7}\n",
    "my_dict = {'a': 10, 'b': 20, 'c': 30}\n",
    "\n",
    "# Length\n",
    "print(len(my_list))  \n",
    "\n",
    "# Min & Max\n",
    "print(min(my_tuple))  \n",
    "print(max(my_set))  \n",
    "\n",
    "# Sum\n",
    "print(sum(my_list)) \n",
    "\n",
    "# Sorted\n",
    "print(sorted(my_set, reverse=True))  \n",
    "\n",
    "# Any & All\n",
    "print(any(my_list)) \n",
    "print(all(my_tuple))  \n",
    "\n",
    "# Enumerate\n",
    "for index, value in enumerate(my_list):\n",
    "    print(index, value)\n",
    "\n",
    "# Zip\n",
    "names = ['Alice', 'Bob', 'Charlie']\n",
    "scores = [85, 90, 95]\n",
    "print(list(zip(names, scores))) \n"
   ]
  },
  {
   "cell_type": "markdown",
   "id": "28d88f54-227f-4dd4-8b41-e1f1a503b7cf",
   "metadata": {},
   "source": [
    " - Practice Question"
   ]
  },
  {
   "cell_type": "code",
   "execution_count": 54,
   "id": "a9f6e317-5067-4492-914e-b0d2f50e42c4",
   "metadata": {},
   "outputs": [
    {
     "name": "stdout",
     "output_type": "stream",
     "text": [
      "['apple', 'banana', 'orange', 'grape']\n"
     ]
    }
   ],
   "source": [
    "#Q1. Create a list of 3 fruits and add a fourth fruit.\n",
    "\n",
    "fruits = [\"apple\", \"banana\", \"orange\"]\n",
    "fruits.append(\"grape\")\n",
    "print(fruits)  "
   ]
  },
  {
   "cell_type": "code",
   "execution_count": 55,
   "id": "3795dd79-5f70-45fe-baef-4b8d1d52f27a",
   "metadata": {},
   "outputs": [
    {
     "name": "stdout",
     "output_type": "stream",
     "text": [
      "5\n"
     ]
    }
   ],
   "source": [
    "#Q2. Create a tuple with 2 numbers and print the first one.\n",
    "\n",
    "numbers = (5, 10)\n",
    "print(numbers[0])  "
   ]
  },
  {
   "cell_type": "code",
   "execution_count": 56,
   "id": "023537c9-0909-4d65-9cf6-0bc693353bb3",
   "metadata": {},
   "outputs": [
    {
     "name": "stdout",
     "output_type": "stream",
     "text": [
      "{'red', 'green', 'blue'}\n"
     ]
    }
   ],
   "source": [
    "#Q3. Create a set with 3 colors, add a duplicate, and print it.\n",
    "\n",
    "colors = {\"red\", \"blue\", \"green\"}\n",
    "colors.add(\"red\")\n",
    "print(colors)  "
   ]
  },
  {
   "cell_type": "code",
   "execution_count": 57,
   "id": "1e27d604-d4ad-48a1-a011-c9ccaa873e2b",
   "metadata": {},
   "outputs": [
    {
     "name": "stdout",
     "output_type": "stream",
     "text": [
      "25\n"
     ]
    }
   ],
   "source": [
    "#Q4. Create a dictionary with keys \"name\" and \"age\" and print the age.\n",
    "\n",
    "person = {\"name\": \"Alice\", \"age\": 25}\n",
    "print(person[\"age\"]) "
   ]
  },
  {
   "cell_type": "code",
   "execution_count": 58,
   "id": "4f3d0cef-a3b1-43f6-834f-8df9808edd90",
   "metadata": {},
   "outputs": [
    {
     "name": "stdout",
     "output_type": "stream",
     "text": [
      "[1, 2, 4, 5]\n"
     ]
    }
   ],
   "source": [
    "#Q5. Remove an item from a list of 5 numbers.\n",
    "\n",
    "numbers = [1, 2, 3, 4, 5]\n",
    "numbers.remove(3)\n",
    "print(numbers)  "
   ]
  },
  {
   "cell_type": "markdown",
   "id": "2299d229-6e44-4000-9aa1-456f487a358d",
   "metadata": {
    "jp-MarkdownHeadingCollapsed": true
   },
   "source": [
    "### File Handling"
   ]
  },
  {
   "cell_type": "markdown",
   "id": "2ecb2b63-4a1a-4e70-b874-0a7625feac54",
   "metadata": {},
   "source": [
    "Python can read/write files using open() with modes: \n",
    " - \"r\" (read)\n",
    " - \"w\" (write)\n",
    " - \"a\" (append)."
   ]
  },
  {
   "cell_type": "code",
   "execution_count": 59,
   "id": "60b51b15-58d0-408a-9cb7-a302cb49d696",
   "metadata": {},
   "outputs": [],
   "source": [
    "# Writing to a file\n",
    "with open(\"test.txt\", \"w\") as file:\n",
    "    file.write(\"Hello, Python!\")"
   ]
  },
  {
   "cell_type": "code",
   "execution_count": 60,
   "id": "3827d7cc-515e-4ec5-9303-b42db7067739",
   "metadata": {},
   "outputs": [
    {
     "name": "stdout",
     "output_type": "stream",
     "text": [
      "Hello, Python!\n"
     ]
    }
   ],
   "source": [
    "# Reading from a file\n",
    "with open(\"test.txt\", \"r\") as file:\n",
    "    content = file.read()\n",
    "    print(content)"
   ]
  },
  {
   "cell_type": "code",
   "execution_count": 61,
   "id": "4bd7cefa-625e-42a9-8ca6-c2f030b9c6e6",
   "metadata": {},
   "outputs": [
    {
     "name": "stdout",
     "output_type": "stream",
     "text": [
      "Hello, Python!\n",
      "More text\n"
     ]
    }
   ],
   "source": [
    "# Appending to a file\n",
    "with open(\"test.txt\", \"a\") as file:\n",
    "    file.write(\"\\nMore text\")\n",
    "with open(\"test.txt\", \"r\") as file:\n",
    "    print(file.read())"
   ]
  },
  {
   "cell_type": "markdown",
   "id": "7965641d-e474-4d80-9981-68250ae471ee",
   "metadata": {},
   "source": [
    " - Practice Question"
   ]
  },
  {
   "cell_type": "code",
   "execution_count": 62,
   "id": "0662be8e-3002-4cc1-b9ae-8f19053e6380",
   "metadata": {},
   "outputs": [],
   "source": [
    "#Q1. Write \"Learning Python\" to a file named \"notes.txt\".\n",
    "\n",
    "with open(\"notes.txt\", \"w\") as file:\n",
    "    file.write(\"Learning Python\")"
   ]
  },
  {
   "cell_type": "code",
   "execution_count": 63,
   "id": "0946edfd-6459-4590-9e40-77ea748c851a",
   "metadata": {},
   "outputs": [
    {
     "name": "stdout",
     "output_type": "stream",
     "text": [
      "Learning Python\n"
     ]
    }
   ],
   "source": [
    "#Q2. Read and print the content of \"notes.txt\".\n",
    "\n",
    "with open(\"notes.txt\", \"r\") as file:\n",
    "    print(file.read())  "
   ]
  },
  {
   "cell_type": "code",
   "execution_count": 64,
   "id": "2790b040-92ba-41e5-a0a2-c34ee0b4b650",
   "metadata": {},
   "outputs": [
    {
     "name": "stdout",
     "output_type": "stream",
     "text": [
      "Learning Python is fun!\n"
     ]
    }
   ],
   "source": [
    "#Q3. Append \" is fun!\" to \"notes.txt\" and print the updated content.\n",
    "\n",
    "with open(\"notes.txt\", \"a\") as file:\n",
    "    file.write(\" is fun!\")\n",
    "with open(\"notes.txt\", \"r\") as file:\n",
    "    print(file.read())  "
   ]
  },
  {
   "cell_type": "code",
   "execution_count": 65,
   "id": "bd5c4bb8-9276-4b15-b172-c6a6f7ba1a1a",
   "metadata": {},
   "outputs": [],
   "source": [
    "#Q4. Write a list of 3 names to a file \"names.txt\", one per line.\n",
    "\n",
    "names = [\"Alice\", \"Bob\", \"Charlie\"]\n",
    "with open(\"names.txt\", \"w\") as file:\n",
    "    for name in names:\n",
    "        file.write(name + \"\\n\")"
   ]
  },
  {
   "cell_type": "code",
   "execution_count": 66,
   "id": "f712f0a4-d3e8-4c2c-8a20-6f81f215af4f",
   "metadata": {},
   "outputs": [
    {
     "name": "stdout",
     "output_type": "stream",
     "text": [
      "Alice\n",
      "Bob\n",
      "Charlie\n"
     ]
    }
   ],
   "source": [
    "#Q5. Read \"names.txt\" and print each line.\n",
    "\n",
    "with open(\"names.txt\", \"r\") as file:\n",
    "    for line in file:\n",
    "        print(line.strip())  "
   ]
  },
  {
   "cell_type": "markdown",
   "id": "f34cfc46-1e7a-4190-8abb-8133c7789358",
   "metadata": {
    "jp-MarkdownHeadingCollapsed": true
   },
   "source": [
    "### Object-Oriented Programming"
   ]
  },
  {
   "cell_type": "markdown",
   "id": "62fecdf5-bcd4-4f55-ad3d-f1c2b7f18982",
   "metadata": {
    "jp-MarkdownHeadingCollapsed": true
   },
   "source": [
    "#### Classes and Objects\n",
    " - A class is a blueprint for creating objects. An object is an instance of a class.\n",
    " - Classes define attributes (data) and methods (functions) that the objects can use."
   ]
  },
  {
   "cell_type": "code",
   "execution_count": 67,
   "id": "197a2f2c-5b56-4e34-aee8-f0fdbd3cfded",
   "metadata": {},
   "outputs": [
    {
     "name": "stdout",
     "output_type": "stream",
     "text": [
      "Buddy says Woof!\n"
     ]
    }
   ],
   "source": [
    "class Dog:\n",
    "    def __init__(self, name):  # Constructor\n",
    "        self.name = name       # Attribute\n",
    "    def bark(self):            # Method\n",
    "        print(f\"{self.name} says Woof!\")\n",
    "\n",
    "my_dog = Dog(\"Buddy\")  # Object creation\n",
    "my_dog.bark()          # Calling method"
   ]
  },
  {
   "cell_type": "markdown",
   "id": "ca8331af-5acb-4d46-bedf-54b45ccee63f",
   "metadata": {
    "jp-MarkdownHeadingCollapsed": true
   },
   "source": [
    "#### Attributes and Methods\n",
    " - Attributes: Variables that belong to an object or class (e.g., self.name).\n",
    " - Methods: Functions defined within a class that operate on the object’s data."
   ]
  },
  {
   "cell_type": "code",
   "execution_count": 68,
   "id": "821ecac6-985c-4b91-ba3b-082d8b7425a3",
   "metadata": {},
   "outputs": [
    {
     "name": "stdout",
     "output_type": "stream",
     "text": [
      "The Blue car’s speed is now 60\n"
     ]
    }
   ],
   "source": [
    "class Car:\n",
    "    def __init__(self, color, speed):\n",
    "        self.color = color    # Instance attribute\n",
    "        self.speed = speed\n",
    "    def accelerate(self):\n",
    "        self.speed += 10\n",
    "        print(f\"The {self.color} car’s speed is now {self.speed}\")\n",
    "\n",
    "car = Car(\"Blue\", 50)\n",
    "car.accelerate()"
   ]
  },
  {
   "cell_type": "markdown",
   "id": "c76b7fbd-486f-4320-8e61-d4a919478798",
   "metadata": {
    "jp-MarkdownHeadingCollapsed": true
   },
   "source": [
    "#### Inheritance"
   ]
  },
  {
   "cell_type": "markdown",
   "id": "ccd0dfa5-4cea-4b72-b77a-53f6cacd746d",
   "metadata": {},
   "source": [
    " - Basic Inheritance :- \n",
    "A subclass inherits all attributes and methods from a parent class. You define it by specifying the parent class in parentheses after the subclass name.\n"
   ]
  },
  {
   "cell_type": "code",
   "execution_count": 69,
   "id": "eb2e9231-9d77-4577-abdc-aa812f99730b",
   "metadata": {},
   "outputs": [
    {
     "name": "stdout",
     "output_type": "stream",
     "text": [
      "Buddy\n",
      "Generic animal sound\n"
     ]
    }
   ],
   "source": [
    "class Animal:\n",
    "    def __init__(self, name):\n",
    "        self.name = name\n",
    "    def speak(self):\n",
    "        print(\"Generic animal sound\")\n",
    "\n",
    "class Dog(Animal):  # Dog inherits from Animal\n",
    "    pass\n",
    "\n",
    "dog = Dog(\"Buddy\")\n",
    "print(dog.name)   \n",
    "dog.speak()       "
   ]
  },
  {
   "cell_type": "markdown",
   "id": "b185659b-9d5d-41bb-b02d-17f8a3a580e3",
   "metadata": {},
   "source": [
    " - Method Overriding :-\n",
    "A subclass can redefine (override) a method from the parent class to provide a specific implementation."
   ]
  },
  {
   "cell_type": "code",
   "execution_count": 70,
   "id": "1ce54cc0-7e6e-46ab-a4a8-50ec7a7fdbb0",
   "metadata": {},
   "outputs": [
    {
     "name": "stdout",
     "output_type": "stream",
     "text": [
      "Meow\n"
     ]
    }
   ],
   "source": [
    "class Animal:\n",
    "    def speak(self):\n",
    "        print(\"Some sound\")\n",
    "\n",
    "class Cat(Animal):\n",
    "    def speak(self):  # Overrides the parent method\n",
    "        print(\"Meow\")\n",
    "\n",
    "cat = Cat()\n",
    "cat.speak()  "
   ]
  },
  {
   "cell_type": "markdown",
   "id": "b0c98fd4-1f5e-4d85-8b72-c977c260a76c",
   "metadata": {},
   "source": [
    " - Using super() :-\n",
    "The super() function allows a subclass to call methods (or the constructor) of the parent class, enabling extension rather than full replacement."
   ]
  },
  {
   "cell_type": "code",
   "execution_count": 71,
   "id": "131e50ac-dbf9-4d4c-979d-f712ee0d8465",
   "metadata": {},
   "outputs": [
    {
     "name": "stdout",
     "output_type": "stream",
     "text": [
      "I am Alice, a student with grade A\n"
     ]
    }
   ],
   "source": [
    "class Person:\n",
    "    def __init__(self, name):\n",
    "        self.name = name\n",
    "    def describe(self):\n",
    "        return f\"I am {self.name}\"\n",
    "\n",
    "class Student(Person):\n",
    "    def __init__(self, name, grade):\n",
    "        super().__init__(name)  # Call parent’s __init__\n",
    "        self.grade = grade\n",
    "    def describe(self):\n",
    "        return f\"{super().describe()}, a student with grade {self.grade}\"\n",
    "\n",
    "student = Student(\"Alice\", \"A\")\n",
    "print(student.describe())  "
   ]
  },
  {
   "cell_type": "markdown",
   "id": "240a7b11-3b9e-4392-b812-e07b8b8e1f71",
   "metadata": {},
   "source": [
    " - Multiple Inheritance :-\n",
    "A class can inherit from multiple parent classes. Python resolves method conflicts using the Method Resolution Order (MRO)."
   ]
  },
  {
   "cell_type": "code",
   "execution_count": 72,
   "id": "3a395545-edbb-44ba-9c30-8c6579024b0e",
   "metadata": {},
   "outputs": [
    {
     "name": "stdout",
     "output_type": "stream",
     "text": [
      "I can fly\n",
      "I can swim\n"
     ]
    }
   ],
   "source": [
    "class Flyer:\n",
    "    def fly(self):\n",
    "        print(\"I can fly\")\n",
    "\n",
    "class Swimmer:\n",
    "    def swim(self):\n",
    "        print(\"I can swim\")\n",
    "\n",
    "class Duck(Flyer, Swimmer):  # Inherits from both Flyer and Swimmer\n",
    "    pass\n",
    "\n",
    "duck = Duck()\n",
    "duck.fly()   \n",
    "duck.swim()  "
   ]
  },
  {
   "cell_type": "code",
   "execution_count": 73,
   "id": "5fcc2669-9259-46f5-9962-f5f95a4f2602",
   "metadata": {},
   "outputs": [
    {
     "name": "stdout",
     "output_type": "stream",
     "text": [
      "B\n",
      "(<class '__main__.D'>, <class '__main__.B'>, <class '__main__.C'>, <class '__main__.A'>, <class 'object'>)\n"
     ]
    }
   ],
   "source": [
    "#MRO Example:\n",
    "\n",
    "class A:\n",
    "    def show(self):\n",
    "        print(\"A\")\n",
    "\n",
    "class B(A):\n",
    "    def show(self):\n",
    "        print(\"B\")\n",
    "\n",
    "class C(A):\n",
    "    def show(self):\n",
    "        print(\"C\")\n",
    "\n",
    "class D(B, C):  # Multiple inheritance\n",
    "    pass\n",
    "\n",
    "d = D()\n",
    "d.show()  \n",
    "print(D.__mro__)  "
   ]
  },
  {
   "cell_type": "markdown",
   "id": "f87d720d-b002-449a-ab07-9b9cbe0156c6",
   "metadata": {},
   "source": [
    " - Multilevel Inheritance :-\n",
    "A class inherits from a subclass, creating a chain of inheritance (e.g., Grandparent → Parent → Child)."
   ]
  },
  {
   "cell_type": "code",
   "execution_count": 74,
   "id": "11a98be1-9c0f-4370-9c48-55e06dfabd53",
   "metadata": {},
   "outputs": [
    {
     "name": "stdout",
     "output_type": "stream",
     "text": [
      "Vehicle moves\n",
      "Car drives\n",
      "Sports car races\n"
     ]
    }
   ],
   "source": [
    "class Vehicle:\n",
    "    def move(self):\n",
    "        print(\"Vehicle moves\")\n",
    "\n",
    "class Car(Vehicle):\n",
    "    def drive(self):\n",
    "        print(\"Car drives\")\n",
    "\n",
    "class SportsCar(Car):  # Inherits from Car, which inherits from Vehicle\n",
    "    def race(self):\n",
    "        print(\"Sports car races\")\n",
    "\n",
    "sports_car = SportsCar()\n",
    "sports_car.move()  \n",
    "sports_car.drive() \n",
    "sports_car.race()  "
   ]
  },
  {
   "cell_type": "markdown",
   "id": "9c270e52-129f-4e2b-999c-dbfc7b77bb78",
   "metadata": {},
   "source": [
    " - Hierarchical Inheritance :-\n",
    "Multiple subclasses inherit from the same parent class, forming a tree-like structure."
   ]
  },
  {
   "cell_type": "code",
   "execution_count": 75,
   "id": "5607d9b5-0d74-4958-9d5e-8ce1d2559943",
   "metadata": {},
   "outputs": [
    {
     "name": "stdout",
     "output_type": "stream",
     "text": [
      "Drawing a Red circle\n",
      "Drawing a Blue square\n"
     ]
    }
   ],
   "source": [
    "class Shape:\n",
    "    def __init__(self, color):\n",
    "        self.color = color\n",
    "\n",
    "class Circle(Shape):\n",
    "    def draw(self):\n",
    "        print(f\"Drawing a {self.color} circle\")\n",
    "\n",
    "class Square(Shape):\n",
    "    def draw(self):\n",
    "        print(f\"Drawing a {self.color} square\")\n",
    "\n",
    "circle = Circle(\"Red\")\n",
    "square = Square(\"Blue\")\n",
    "circle.draw()  \n",
    "square.draw()  "
   ]
  },
  {
   "cell_type": "markdown",
   "id": "15658e28-ae86-4a21-86bb-e0803c14df94",
   "metadata": {},
   "source": [
    " - Hybrid Inheritance :-\n",
    "A combination of multiple and multilevel inheritance. It can get complex, and Python uses MRO to resolve conflicts.\n",
    "\n"
   ]
  },
  {
   "cell_type": "code",
   "execution_count": 76,
   "id": "bc748458-9a28-4b04-b469-9f8751d55fb1",
   "metadata": {},
   "outputs": [
    {
     "name": "stdout",
     "output_type": "stream",
     "text": [
      "Animal sound\n",
      "Mammal walks\n",
      "Bird flies\n"
     ]
    }
   ],
   "source": [
    "class Animal:\n",
    "    def speak(self):\n",
    "        print(\"Animal sound\")\n",
    "\n",
    "class Mammal(Animal):\n",
    "    def walk(self):\n",
    "        print(\"Mammal walks\")\n",
    "\n",
    "class Bird(Animal):\n",
    "    def fly(self):\n",
    "        print(\"Bird flies\")\n",
    "\n",
    "class Bat(Mammal, Bird):  # Hybrid: inherits from Mammal and Bird, both inherit from Animal\n",
    "    pass\n",
    "\n",
    "bat = Bat()\n",
    "bat.speak() \n",
    "bat.walk()   \n",
    "bat.fly()    "
   ]
  },
  {
   "cell_type": "markdown",
   "id": "768abf95-8ef8-432e-b17b-2658f3b4e662",
   "metadata": {},
   "source": [
    " - Overriding Attributes :-\n",
    "A subclass can override parent class attributes by redefining them."
   ]
  },
  {
   "cell_type": "code",
   "execution_count": 77,
   "id": "87f0267b-230f-4fa2-8992-a70fbefbbb2e",
   "metadata": {},
   "outputs": [
    {
     "name": "stdout",
     "output_type": "stream",
     "text": [
      "Hello from Child\n"
     ]
    }
   ],
   "source": [
    "class Parent:\n",
    "    message = \"Hello from Parent\"\n",
    "\n",
    "class Child(Parent):\n",
    "    message = \"Hello from Child\"  # Overrides parent attribute\n",
    "\n",
    "child = Child()\n",
    "print(child.message) "
   ]
  },
  {
   "cell_type": "markdown",
   "id": "a31d061e-d927-40de-992e-4699e31dfc7f",
   "metadata": {
    "jp-MarkdownHeadingCollapsed": true
   },
   "source": [
    "#### Polymorphism "
   ]
  },
  {
   "cell_type": "markdown",
   "id": "8c888675-5792-4614-9b91-d68e26b1e87c",
   "metadata": {},
   "source": [
    "Polymorphism allows different classes to be treated as instances of the same superclass, often through method overriding. It means \"many forms.\""
   ]
  },
  {
   "cell_type": "code",
   "execution_count": 78,
   "id": "9e020eff-8f42-4785-a1b1-399b8b85ed7b",
   "metadata": {},
   "outputs": [
    {
     "name": "stdout",
     "output_type": "stream",
     "text": [
      "Chirp\n",
      "Woof\n"
     ]
    }
   ],
   "source": [
    "class Bird:\n",
    "    def speak(self):\n",
    "        print(\"Chirp\")\n",
    "\n",
    "class Dog:\n",
    "    def speak(self):\n",
    "        print(\"Woof\")\n",
    "\n",
    "def make_animal_speak(animal):\n",
    "    animal.speak()\n",
    "\n",
    "bird = Bird()\n",
    "dog = Dog()\n",
    "make_animal_speak(bird)  \n",
    "make_animal_speak(dog)  "
   ]
  },
  {
   "cell_type": "markdown",
   "id": "6958b840-a101-40d5-b511-64fa12caa7c1",
   "metadata": {
    "jp-MarkdownHeadingCollapsed": true
   },
   "source": [
    "#### Encapsulation "
   ]
  },
  {
   "cell_type": "markdown",
   "id": "9eba7099-2baa-4590-acbc-420444aaf519",
   "metadata": {},
   "source": [
    "Encapsulation restricts direct access to some of an object’s components, typically by making attributes private using a single (_) or double (__) underscore. It’s about data hiding and protection."
   ]
  },
  {
   "cell_type": "code",
   "execution_count": 79,
   "id": "1f0e3b60-dc3b-4694-ae85-b70b6374a8d1",
   "metadata": {},
   "outputs": [
    {
     "name": "stdout",
     "output_type": "stream",
     "text": [
      "150\n"
     ]
    }
   ],
   "source": [
    "class BankAccount:\n",
    "    def __init__(self, balance):\n",
    "        self.__balance = balance  # Private attribute\n",
    "    def deposit(self, amount):\n",
    "        if amount > 0:\n",
    "            self.__balance += amount\n",
    "    def get_balance(self):\n",
    "        return self.__balance\n",
    "\n",
    "account = BankAccount(100)\n",
    "account.deposit(50)\n",
    "print(account.get_balance()) \n",
    "# print(account.__balance)  # AttributeError: No direct access"
   ]
  }
 ],
 "metadata": {
  "kernelspec": {
   "display_name": "Python 3 (ipykernel)",
   "language": "python",
   "name": "python3"
  },
  "language_info": {
   "codemirror_mode": {
    "name": "ipython",
    "version": 3
   },
   "file_extension": ".py",
   "mimetype": "text/x-python",
   "name": "python",
   "nbconvert_exporter": "python",
   "pygments_lexer": "ipython3",
   "version": "3.12.4"
  }
 },
 "nbformat": 4,
 "nbformat_minor": 5
}
