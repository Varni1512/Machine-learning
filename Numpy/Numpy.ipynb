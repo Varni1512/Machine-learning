{
 "cells": [
  {
   "cell_type": "markdown",
   "id": "be5a89df-8eee-4ada-bca3-6268e9201b57",
   "metadata": {
    "jp-MarkdownHeadingCollapsed": true
   },
   "source": [
    "### NumPy Introduction"
   ]
  },
  {
   "cell_type": "markdown",
   "id": "2dbba69b-3dd8-43a3-8872-e0af1152f424",
   "metadata": {},
   "source": [
    "**NumPy(Numerical Python)** is a fundamental library for Python numerical computing. It provides efficient multi-dimensional array objects and various mathematical functions for handling large datasets making it a critical tool for professionals in fields that require heavy computation.\n",
    " - Installing & Importing NumPy\n",
    " - Creating NumPy Arrays\n",
    " - Array Creation Methods\n",
    " - Array Indexing and Slicing\n",
    " - Array Operations\n",
    " - Mathematical Functions\n",
    " - Reshaping & Flattening\n",
    " - Stacking & Concatenation\n",
    " - Linear Algebra Operations\n",
    " - Random Number Generation"
   ]
  },
  {
   "cell_type": "markdown",
   "id": "9a5e0f3c-caf5-4e1c-9a39-16bc7fc41af6",
   "metadata": {
    "jp-MarkdownHeadingCollapsed": true
   },
   "source": [
    "### Installing & Importing NumPy"
   ]
  },
  {
   "cell_type": "code",
   "execution_count": 1,
   "id": "2e26f560-96c9-4ebb-b21d-e1e0c3870a6d",
   "metadata": {},
   "outputs": [
    {
     "name": "stdout",
     "output_type": "stream",
     "text": [
      "Requirement already satisfied: numpy in c:\\users\\hp\\appdata\\local\\programs\\python\\python312\\lib\\site-packages (1.26.4)\n",
      "Note: you may need to restart the kernel to use updated packages.\n"
     ]
    },
    {
     "name": "stderr",
     "output_type": "stream",
     "text": [
      "\n",
      "[notice] A new release of pip is available: 24.1 -> 25.0.1\n",
      "[notice] To update, run: python.exe -m pip install --upgrade pip\n"
     ]
    }
   ],
   "source": [
    "pip install numpy"
   ]
  },
  {
   "cell_type": "code",
   "execution_count": 2,
   "id": "d0b05388-5c7e-4399-afd7-f49e8846bf5d",
   "metadata": {},
   "outputs": [],
   "source": [
    "import numpy as np"
   ]
  },
  {
   "cell_type": "markdown",
   "id": "9654bc56-9df8-4d85-8781-f87d36f62549",
   "metadata": {
    "jp-MarkdownHeadingCollapsed": true
   },
   "source": [
    "### Creating NumPy Arrays"
   ]
  },
  {
   "cell_type": "markdown",
   "id": "88e14cda-8338-47bd-a23a-a11333f624db",
   "metadata": {},
   "source": [
    " - **Using ndarray** : The array object is called ndarray. NumPy arrays are created using the array() function."
   ]
  },
  {
   "cell_type": "code",
   "execution_count": 3,
   "id": "6a643afc-a23c-4c14-b49b-58dbf59161d7",
   "metadata": {},
   "outputs": [
    {
     "name": "stdout",
     "output_type": "stream",
     "text": [
      "[1 2 3]\n",
      "[[1 2]\n",
      " [3 4]]\n",
      "[[[1 2]\n",
      "  [3 4]]\n",
      "\n",
      " [[5 6]\n",
      "  [7 8]]]\n"
     ]
    }
   ],
   "source": [
    "import numpy as np\n",
    "\n",
    "# Creating a 1D array\n",
    "x = np.array([1, 2, 3])\n",
    "\n",
    "# Creating a 2D array\n",
    "y = np.array([[1, 2], [3, 4]])\n",
    "\n",
    "# Creating a 3D array\n",
    "z = np.array([[[1, 2], [3, 4]], [[5, 6], [7, 8]]])\n",
    "\n",
    "print(x)\n",
    "print(y)\n",
    "print(z)"
   ]
  },
  {
   "cell_type": "markdown",
   "id": "a3035d56-d34a-4b0b-ad98-110fd428f9fb",
   "metadata": {
    "jp-MarkdownHeadingCollapsed": true
   },
   "source": [
    "### Array Creation Methods"
   ]
  },
  {
   "cell_type": "markdown",
   "id": "538a8d27-713d-45ec-b32c-97223979fb1e",
   "metadata": {},
   "source": [
    "NumPy provides functions to create arrays with specific values or shapes, like zeros, ones, random numbers, or ranges."
   ]
  },
  {
   "cell_type": "code",
   "execution_count": 4,
   "id": "9490b1d5-37b4-42a6-810b-5ee87f202a00",
   "metadata": {},
   "outputs": [
    {
     "name": "stdout",
     "output_type": "stream",
     "text": [
      "[[0. 0. 0.]\n",
      " [0. 0. 0.]]\n",
      "[[1. 1.]\n",
      " [1. 1.]\n",
      " [1. 1.]]\n",
      "[[0.75255514 0.30674186]\n",
      " [0.52739314 0.44799735]]\n",
      "[0 2 4 6 8]\n"
     ]
    }
   ],
   "source": [
    "import numpy as np\n",
    "\n",
    "# Array of zeros\n",
    "zeros = np.zeros((2, 3))\n",
    "print(zeros)\n",
    "\n",
    "# Array of ones\n",
    "ones = np.ones((3, 2))\n",
    "print(ones)\n",
    "\n",
    "# Random array\n",
    "rand = np.random.rand(2, 2)  # Uniform distribution [0, 1)\n",
    "print(rand)\n",
    "\n",
    "# Range of values\n",
    "arange = np.arange(0, 10, 2)  # Start, stop, step\n",
    "print(arange)  "
   ]
  },
  {
   "cell_type": "markdown",
   "id": "4224c2d3-4e67-4b8e-be76-7ec01ebd46de",
   "metadata": {
    "jp-MarkdownHeadingCollapsed": true
   },
   "source": [
    "### Array Indexing and Slicing"
   ]
  },
  {
   "cell_type": "markdown",
   "id": "9d87b44c-9b82-4eca-9583-e9751aa0c2b6",
   "metadata": {},
   "source": [
    " - **Basic Indexing** : Basic indexing in NumPy allows you to access elements of an array using indices."
   ]
  },
  {
   "cell_type": "code",
   "execution_count": 5,
   "id": "be985269-f38f-455b-9fcd-de0fbc925380",
   "metadata": {},
   "outputs": [
    {
     "name": "stdout",
     "output_type": "stream",
     "text": [
      "Single element access: 30\n",
      "Negative indexing: 50\n",
      "Multidimensional array access: 4\n"
     ]
    }
   ],
   "source": [
    "import numpy as np\n",
    "\n",
    "# Create a 1D array\n",
    "arr1d = np.array([10, 20, 30, 40, 50])\n",
    "\n",
    "# Single element access\n",
    "print(\"Single element access:\", arr1d[2])  \n",
    "\n",
    "# Negative indexing\n",
    "print(\"Negative indexing:\", arr1d[-1])  \n",
    "\n",
    "# Create a 2D array\n",
    "arr2d = np.array([[1, 2, 3], [4, 5, 6], [7, 8, 9]])\n",
    "\n",
    "# Multidimensional array access\n",
    "print(\"Multidimensional array access:\", arr2d[1, 0]) "
   ]
  },
  {
   "cell_type": "markdown",
   "id": "f435c1ba-3132-4456-a32c-fc5e29060cae",
   "metadata": {},
   "source": [
    " - **Slicing** : Just like lists in Python, NumPy arrays can be sliced. As arrays can be multidimensional, you need to specify a slice for each dimension of the array."
   ]
  },
  {
   "cell_type": "code",
   "execution_count": 6,
   "id": "11555a41-a2c7-4419-9e18-5378392eb8d2",
   "metadata": {},
   "outputs": [
    {
     "name": "stdout",
     "output_type": "stream",
     "text": [
      "Range of Elements: [10 20 30]\n",
      "Range of Elements: [ 0 10 20]\n",
      "Range of Elements: [30 40 50]\n",
      "Multidimensional Slicing: [2 5]\n"
     ]
    }
   ],
   "source": [
    "import numpy as np\n",
    "\n",
    "arr = np.array([0, 10, 20, 30, 40, 50])\n",
    "\n",
    "print(\"Range of Elements:\",arr[1:4]) # index 1 to 4\n",
    "print(\"Range of Elements:\",arr[:3])  # first 3 elements\n",
    "print(\"Range of Elements:\",arr[-3:]) # last 3 elements\n",
    "\n",
    "arr1 = np.array([[1, 2, 3], [4, 5, 6]])\n",
    "#all rows, second column\n",
    "print(\"Multidimensional Slicing:\", arr1[:, 1])"
   ]
  },
  {
   "cell_type": "markdown",
   "id": "84f6628b-96fb-4048-ad11-d47169c9d30e",
   "metadata": {},
   "source": [
    " - **Advanced Indexing** : Advanced Indexing in NumPy provides more powerful and flexible ways to access and manipulate array elements."
   ]
  },
  {
   "cell_type": "code",
   "execution_count": 7,
   "id": "1bd4347e-f01d-4979-8491-cf42201714f2",
   "metadata": {},
   "outputs": [
    {
     "name": "stdout",
     "output_type": "stream",
     "text": [
      "Integer array indexing: [20 40 60]\n",
      "\n",
      "Elements greater than 0:\n",
      " [ 10  20  30  40  50  60  70  80  90 100]\n"
     ]
    }
   ],
   "source": [
    "import numpy as np\n",
    "arr = np.array([10, 20, 30, 40, 50, 60, 70, 80, 90, 100])\n",
    "\n",
    "# Integer array indexing \n",
    "indices = np.array([1, 3, 5])\n",
    "print (\"Integer array indexing:\", arr[indices])\n",
    "\n",
    "# boolean array indexing \n",
    "cond = arr > 0\n",
    "print (\"\\nElements greater than 0:\\n\", arr[cond])"
   ]
  },
  {
   "cell_type": "markdown",
   "id": "173f0f17-73f6-413f-b08c-571c7cda0793",
   "metadata": {
    "jp-MarkdownHeadingCollapsed": true
   },
   "source": [
    "### Array Operations"
   ]
  },
  {
   "cell_type": "markdown",
   "id": "52e11bbd-a9f6-43ae-8820-ee93a11c35ce",
   "metadata": {},
   "source": [
    "Element-wise operations in NumPy allow you to perform mathematical operations on each element of an array individually, without the need for explicit loops."
   ]
  },
  {
   "cell_type": "markdown",
   "id": "2d11e77a-d5f5-4fc9-bf14-448f8a2a481e",
   "metadata": {},
   "source": [
    " - **Element-wise Operations** : We can perform arithmetic operations like addition, subtraction, multiplication, and division directly on NumPy arrays."
   ]
  },
  {
   "cell_type": "code",
   "execution_count": 8,
   "id": "3b9a330e-c02a-4e6b-99ea-a200da09c0f0",
   "metadata": {},
   "outputs": [
    {
     "name": "stdout",
     "output_type": "stream",
     "text": [
      "Addition: [5 7 9]\n",
      "substration: [-3 -3 -3]\n",
      "multiplication: [ 4 10 18]\n",
      "division: [0.25 0.4  0.5 ]\n"
     ]
    }
   ],
   "source": [
    "import numpy as np\n",
    "\n",
    "x = np.array([1, 2, 3])\n",
    "y = np.array([4, 5, 6])\n",
    "\n",
    "# Addition\n",
    "add = x + y  \n",
    "print(\"Addition:\",add)\n",
    "\n",
    "# Subtraction\n",
    "subtract = x - y \n",
    "print(\"substration:\",subtract)\n",
    "\n",
    "# Multiplication\n",
    "multiply = x * y \n",
    "print(\"multiplication:\",multiply)\n",
    "\n",
    "# Division\n",
    "divide = x / y  \n",
    "print(\"division:\", divide)"
   ]
  },
  {
   "cell_type": "markdown",
   "id": "7c7f3f5a-8db6-4614-9a43-bccea5f470a3",
   "metadata": {},
   "source": [
    " - **Unary Operation** : These operations are applied to each individual element in the array, without the need for multiple arrays (as in binary operations)."
   ]
  },
  {
   "cell_type": "code",
   "execution_count": 9,
   "id": "2647bae7-e208-47b3-9218-15a3b557c771",
   "metadata": {},
   "outputs": [
    {
     "name": "stdout",
     "output_type": "stream",
     "text": [
      "Absolute value: [3 1 0 1 3]\n"
     ]
    }
   ],
   "source": [
    "import numpy as np\n",
    "\n",
    "# Example array with both positive and negative values\n",
    "arr = np.array([-3, -1, 0, 1, 3])\n",
    "\n",
    "# Applying a unary operation: absolute value\n",
    "result = np.absolute(arr)\n",
    "print(\"Absolute value:\", result)"
   ]
  },
  {
   "cell_type": "markdown",
   "id": "6b7ed38d-3521-4912-bc04-87aa381a5f05",
   "metadata": {},
   "source": [
    " - **Binary Operators** : Numpy Binary Operations apply to the array elementwise and a new array is created. We can use all basic arithmetic operators like +, -, /,  etc. In the case of +=, -=, = operators, the existing array is modified."
   ]
  },
  {
   "cell_type": "code",
   "execution_count": 10,
   "id": "925b93bc-6bd7-4bb0-af0e-e8725f3d68f3",
   "metadata": {},
   "outputs": [
    {
     "name": "stdout",
     "output_type": "stream",
     "text": [
      "Addition: [15 25 35 45]\n",
      "Subtraction: [ 5 15 25 35]\n",
      "Multiplication: [20 40 60 80]\n",
      "Division: [ 5. 10. 15. 20.]\n",
      "Floor Division: [ 3  6 10 13]\n",
      "Modulus: [3 6 2 5]\n",
      "Exponentiation: [ 100  400  900 1600]\n",
      "After += 5: [15 25 35 45]\n",
      "After -= 5: [10 20 30 40]\n"
     ]
    }
   ],
   "source": [
    "import numpy as np\n",
    "\n",
    "# Creating an array\n",
    "arr = np.array([10, 20, 30, 40])\n",
    "\n",
    "# Binary operations (element-wise)\n",
    "print(\"Addition:\", arr + 5)  \n",
    "print(\"Subtraction:\", arr - 5) \n",
    "print(\"Multiplication:\", arr * 2) \n",
    "print(\"Division:\", arr / 2)   \n",
    "print(\"Floor Division:\", arr // 3) \n",
    "print(\"Modulus:\", arr % 7)   \n",
    "print(\"Exponentiation:\", arr ** 2) \n",
    "\n",
    "# In-place operations (modifies the original array)\n",
    "arr += 5  \n",
    "print(\"After += 5:\", arr) \n",
    "\n",
    "arr -= 5  \n",
    "print(\"After -= 5:\", arr)  \n"
   ]
  },
  {
   "cell_type": "markdown",
   "id": "e32c2fba-9430-4598-9533-4d9d3be7cb2e",
   "metadata": {
    "jp-MarkdownHeadingCollapsed": true
   },
   "source": [
    "### Mathematical Functions"
   ]
  },
  {
   "cell_type": "markdown",
   "id": "ebe04ff0-b176-4f51-8229-0d4fec8e13bc",
   "metadata": {},
   "source": [
    "NumPy offers functions like sum, mean, standard deviation, dot product , Sin, Cos, exp, etc...\n"
   ]
  },
  {
   "cell_type": "code",
   "execution_count": 11,
   "id": "f9591998-8a6e-49db-9814-8347d05fcc00",
   "metadata": {},
   "outputs": [
    {
     "name": "stdout",
     "output_type": "stream",
     "text": [
      "Sum: 15\n",
      "Mean: 3.0\n",
      "Standard Deviation: 1.4142135623730951\n",
      "Variance: 2.0\n",
      "Sine values: [0.         0.5        0.70710678 0.8660254  1.        ]\n",
      "Cosine values: [1.00000000e+00 8.66025404e-01 7.07106781e-01 5.00000000e-01\n",
      " 6.12323400e-17]\n",
      "Exponential: [  2.71828183   7.3890561   20.08553692  54.59815003 148.4131591 ]\n",
      "Natural Log (ln): [0.         0.69314718 1.09861229 1.38629436 1.60943791]\n",
      "Log base 10: [0.         0.30103    0.47712125 0.60205999 0.69897   ]\n",
      "Dot Product: 32\n"
     ]
    }
   ],
   "source": [
    "import numpy as np\n",
    "\n",
    "# Creating an array\n",
    "arr = np.array([1, 2, 3, 4, 5])\n",
    "\n",
    "# Aggregation functions\n",
    "print(\"Sum:\", np.sum(arr))  \n",
    "print(\"Mean:\", np.mean(arr))  \n",
    "print(\"Standard Deviation:\", np.std(arr))  \n",
    "print(\"Variance:\", np.var(arr))  \n",
    "\n",
    "# Trigonometric functions\n",
    "angles = np.array([0, 30, 45, 60, 90]) \n",
    "radians = np.radians(angles)  \n",
    "print(\"Sine values:\", np.sin(radians))\n",
    "print(\"Cosine values:\", np.cos(radians))\n",
    "\n",
    "# Exponential & Logarithmic functions\n",
    "print(\"Exponential:\", np.exp(arr)) \n",
    "print(\"Natural Log (ln):\", np.log(arr))  \n",
    "print(\"Log base 10:\", np.log10(arr))  \n",
    "\n",
    "# Dot product (Linear Algebra)\n",
    "A = np.array([1, 2, 3])\n",
    "B = np.array([4, 5, 6])\n",
    "print(\"Dot Product:\", np.dot(A, B))  "
   ]
  },
  {
   "cell_type": "markdown",
   "id": "17d6c282-97c7-48d9-98ef-043b4301dbb5",
   "metadata": {
    "jp-MarkdownHeadingCollapsed": true
   },
   "source": [
    "### Reshaping & Flattening"
   ]
  },
  {
   "cell_type": "markdown",
   "id": "e60bd734-673a-426d-9908-8b9873b26fc0",
   "metadata": {},
   "source": [
    "Change the shape of an array (reshape) or swap axes (transpose) to fit ML model requirements."
   ]
  },
  {
   "cell_type": "code",
   "execution_count": 12,
   "id": "7b56973f-a166-4f64-a310-02862fdd14b0",
   "metadata": {},
   "outputs": [
    {
     "name": "stdout",
     "output_type": "stream",
     "text": [
      "Original Array:\n",
      " [[1 2 3]\n",
      " [4 5 6]]\n",
      "\n",
      "Reshaped (3x2):\n",
      " [[1 2]\n",
      " [3 4]\n",
      " [5 6]]\n",
      "\n",
      "Flattened Array: [1 2 3 4 5 6]\n",
      "\n",
      "Raveled Array: [1 2 3 4 5 6]\n",
      "\n",
      "Modified Raveled Array: [99  2  3  4  5  6]\n",
      "Original Array After ravel() Modification:\n",
      " [[99  2  3]\n",
      " [ 4  5  6]]\n"
     ]
    }
   ],
   "source": [
    "import numpy as np\n",
    "\n",
    "# Original array (2D)\n",
    "arr = np.array([[1, 2, 3], [4, 5, 6]])\n",
    "print(\"Original Array:\\n\", arr)\n",
    "\n",
    "# Reshaping (Changing shape from (2,3) to (3,2))\n",
    "reshaped = arr.reshape(3, 2)\n",
    "print(\"\\nReshaped (3x2):\\n\", reshaped)\n",
    "\n",
    "# Flattening the array (converting to 1D)\n",
    "flattened = arr.flatten()  \n",
    "print(\"\\nFlattened Array:\", flattened)\n",
    "\n",
    "# Using ravel() (returns a view, changes will affect original)\n",
    "raveled = arr.ravel()\n",
    "print(\"\\nRaveled Array:\", raveled)\n",
    "\n",
    "# Modifying raveled array (affects original)\n",
    "raveled[0] = 99\n",
    "print(\"\\nModified Raveled Array:\", raveled)\n",
    "print(\"Original Array After ravel() Modification:\\n\", arr)"
   ]
  },
  {
   "cell_type": "markdown",
   "id": "b6ba0b74-f275-4d34-b08b-26634a9cf233",
   "metadata": {
    "jp-MarkdownHeadingCollapsed": true
   },
   "source": [
    "### Stacking & Concatenation"
   ]
  },
  {
   "cell_type": "markdown",
   "id": "2c8ab524-8906-44f6-888d-3afd4b031a5c",
   "metadata": {},
   "source": [
    "In Machine Learning (ML) and Data Science, combining arrays is essential for data manipulation. NumPy provides powerful functions for stacking and concatenation."
   ]
  },
  {
   "cell_type": "code",
   "execution_count": 13,
   "id": "7a74b842-b0d1-4849-a13c-72a0eb964b7f",
   "metadata": {},
   "outputs": [
    {
     "name": "stdout",
     "output_type": "stream",
     "text": [
      "Array A:\n",
      " [[1 2]\n",
      " [3 4]]\n",
      "\n",
      "Array B:\n",
      " [[5 6]\n",
      " [7 8]]\n",
      "\n",
      "Concatenation (Row-wise, axis=0):\n",
      " [[1 2]\n",
      " [3 4]\n",
      " [5 6]\n",
      " [7 8]]\n",
      "\n",
      "Concatenation (Column-wise, axis=1):\n",
      " [[1 2 5 6]\n",
      " [3 4 7 8]]\n",
      "\n",
      "Stacking Along New Axis (axis=0):\n",
      " [[[1 2]\n",
      "  [3 4]]\n",
      "\n",
      " [[5 6]\n",
      "  [7 8]]]\n",
      "\n",
      "Stacking Along New Axis (axis=1):\n",
      " [[[1 2]\n",
      "  [5 6]]\n",
      "\n",
      " [[3 4]\n",
      "  [7 8]]]\n",
      "\n",
      "Horizontally Stacked:\n",
      " [[1 2 5 6]\n",
      " [3 4 7 8]]\n",
      "\n",
      "Vertically Stacked:\n",
      " [[1 2]\n",
      " [3 4]\n",
      " [5 6]\n",
      " [7 8]]\n",
      "\n",
      "Depth Stacked:\n",
      " [[[1 5]\n",
      "  [2 6]]\n",
      "\n",
      " [[3 7]\n",
      "  [4 8]]]\n"
     ]
    }
   ],
   "source": [
    "import numpy as np\n",
    "\n",
    "# Creating sample arrays\n",
    "A = np.array([[1, 2], [3, 4]])\n",
    "B = np.array([[5, 6], [7, 8]])\n",
    "\n",
    "print(\"Array A:\\n\", A)\n",
    "print(\"\\nArray B:\\n\", B)\n",
    "\n",
    "# Concatenation (Merging along existing axes)\n",
    "concat_0 = np.concatenate((A, B), axis=0)  # Row-wise\n",
    "concat_1 = np.concatenate((A, B), axis=1)  # Column-wise\n",
    "\n",
    "print(\"\\nConcatenation (Row-wise, axis=0):\\n\", concat_0)\n",
    "print(\"\\nConcatenation (Column-wise, axis=1):\\n\", concat_1)\n",
    "\n",
    "# Stacking (Creates a new dimension)\n",
    "stack_0 = np.stack((A, B), axis=0)  # New axis at 0\n",
    "stack_1 = np.stack((A, B), axis=1)  # New axis at 1\n",
    "\n",
    "print(\"\\nStacking Along New Axis (axis=0):\\n\", stack_0)\n",
    "print(\"\\nStacking Along New Axis (axis=1):\\n\", stack_1)\n",
    "\n",
    "# Horizontal and Vertical Stacking\n",
    "h_stacked = np.hstack((A, B))  # Horizontal Stacking\n",
    "v_stacked = np.vstack((A, B))  # Vertical Stacking\n",
    "d_stacked = np.dstack((A, B))  # Depth Stacking\n",
    "\n",
    "print(\"\\nHorizontally Stacked:\\n\", h_stacked)\n",
    "print(\"\\nVertically Stacked:\\n\", v_stacked)\n",
    "print(\"\\nDepth Stacked:\\n\", d_stacked)"
   ]
  },
  {
   "cell_type": "markdown",
   "id": "35d17ff2-2d2e-485c-bfe6-dcbbff3cb316",
   "metadata": {
    "jp-MarkdownHeadingCollapsed": true
   },
   "source": [
    "### Linear Algebra Operations"
   ]
  },
  {
   "cell_type": "markdown",
   "id": "1624b0a8-2076-4a6f-a836-05cbdfcae092",
   "metadata": {},
   "source": [
    "NumPy Linear Algebra is a module (numpy.linalg) that provides efficient mathematical functions for performing matrix operations such as multiplication, determinant calculation, inversion, eigenvalue decomposition, solving linear equations, and singular value decomposition (SVD)"
   ]
  },
  {
   "cell_type": "code",
   "execution_count": 14,
   "id": "ddf27d6c-be5b-4648-b8a5-4cc07d4cf17b",
   "metadata": {},
   "outputs": [
    {
     "name": "stdout",
     "output_type": "stream",
     "text": [
      "Matrix Multiplication (Dot Product):\n",
      " [[19 22]\n",
      " [43 50]]\n",
      "\n",
      "Matrix Multiplication (Matmul):\n",
      " [[19 22]\n",
      " [43 50]]\n",
      "\n",
      "Determinant of A: -2.0000000000000004\n",
      "\n",
      "Inverse of A:\n",
      " [[-2.   1. ]\n",
      " [ 1.5 -0.5]]\n",
      "\n",
      "Eigenvalues of A:\n",
      " [-0.37228132  5.37228132]\n",
      "\n",
      "Eigenvectors of A:\n",
      " [[-0.82456484 -0.41597356]\n",
      " [ 0.56576746 -0.90937671]]\n",
      "\n",
      "Solution for Ax = B:\n",
      " [1. 2.]\n",
      "\n",
      "Singular Value Decomposition (SVD):\n",
      "U:\n",
      " [[-0.40455358 -0.9145143 ]\n",
      " [-0.9145143   0.40455358]] \n",
      "S:\n",
      " [5.4649857  0.36596619] \n",
      "V:\n",
      " [[-0.57604844 -0.81741556]\n",
      " [ 0.81741556 -0.57604844]]\n"
     ]
    }
   ],
   "source": [
    "import numpy as np\n",
    "\n",
    "A = np.array([[1, 2], [3, 4]])\n",
    "B = np.array([[5, 6], [7, 8]])\n",
    "C = np.array([5, 11])  # Constants for equation Ax = B\n",
    "\n",
    "# Matrix Multiplication\n",
    "dot_product = np.dot(A, B)\n",
    "matmul_product = np.matmul(A, B)\n",
    "\n",
    "# Determinant\n",
    "det_A = np.linalg.det(A)\n",
    "\n",
    "# Inverse\n",
    "inverse_A = np.linalg.inv(A)\n",
    "\n",
    "# Eigenvalues & Eigenvectors\n",
    "eigenvalues, eigenvectors = np.linalg.eig(A)\n",
    "\n",
    "# Solving Linear Equations Ax = B\n",
    "solution = np.linalg.solve(A, C)\n",
    "\n",
    "# Singular Value Decomposition (SVD)\n",
    "U, S, V = np.linalg.svd(A)\n",
    "\n",
    "# Print Outputs\n",
    "print(\"Matrix Multiplication (Dot Product):\\n\", dot_product)\n",
    "print(\"\\nMatrix Multiplication (Matmul):\\n\", matmul_product)\n",
    "print(\"\\nDeterminant of A:\", det_A)\n",
    "print(\"\\nInverse of A:\\n\", inverse_A)\n",
    "print(\"\\nEigenvalues of A:\\n\", eigenvalues)\n",
    "print(\"\\nEigenvectors of A:\\n\", eigenvectors)\n",
    "print(\"\\nSolution for Ax = B:\\n\", solution)\n",
    "print(\"\\nSingular Value Decomposition (SVD):\\nU:\\n\", U, \"\\nS:\\n\", S, \"\\nV:\\n\", V)"
   ]
  },
  {
   "cell_type": "markdown",
   "id": "d09c8522-c7dc-4364-8828-ed3f26bc5ee1",
   "metadata": {
    "jp-MarkdownHeadingCollapsed": true
   },
   "source": [
    "### Random Number Generation"
   ]
  },
  {
   "cell_type": "markdown",
   "id": "4109133e-148b-48d1-9d86-ba218ed6f220",
   "metadata": {},
   "source": [
    "Generate random numbers for initializing weights, shuffling data, or creating synthetic datasets."
   ]
  },
  {
   "cell_type": "markdown",
   "id": "d2af3ac2-8522-4fd0-9199-75cf91413045",
   "metadata": {},
   "source": [
    "NumPy Random Number Generation (numpy.random) is a module that provides functions to generate random numbers, including integers, floats, normal distributions, and permutations."
   ]
  },
  {
   "cell_type": "code",
   "execution_count": 15,
   "id": "3de6c323-32ca-4f79-87a5-d55bd1b4e9c9",
   "metadata": {},
   "outputs": [
    {
     "name": "stdout",
     "output_type": "stream",
     "text": [
      "Random Integer: 48\n",
      "Random Float: 0.23893824785857642\n",
      "\n",
      "1D Array of Random Floats:\n",
      " [0.42967035 0.52821535 0.11450325 0.9110085  0.53383167]\n",
      "\n",
      "2D Random Integer Matrix:\n",
      " [[ 9 31 29]\n",
      " [ 9 45 42]\n",
      " [ 5 44 69]]\n",
      "\n",
      "Random Choice from Array: 50\n",
      "\n",
      "Random Numbers from Normal Distribution:\n",
      " [ 0.05662966 -0.3295585  -0.01738985 -1.10986416 -1.13844562]\n",
      "\n",
      "Shuffled Array:\n",
      " [2 1 4 3 5]\n",
      "\n",
      "Randomly Permuted Array:\n",
      " [5 2 4 3 1]\n"
     ]
    }
   ],
   "source": [
    "import numpy as np\n",
    "\n",
    "# 1. Generate random integer and float\n",
    "rand_int = np.random.randint(10, 50)\n",
    "rand_float = np.random.rand()\n",
    "\n",
    "# 2. Generate random arrays\n",
    "rand_array = np.random.rand(5)  # 1D array of 5 floats\n",
    "rand_matrix = np.random.randint(1, 100, (3, 3))  # 3x3 integer matrix\n",
    "\n",
    "# 3. Random choice\n",
    "arr = np.array([10, 20, 30, 40, 50])\n",
    "random_choice = np.random.choice(arr)\n",
    "\n",
    "# 4. Normal Distribution\n",
    "normal_dist = np.random.normal(0, 1, 5)\n",
    "\n",
    "# 5. Shuffling & Permutation\n",
    "shuffle_arr = np.array([1, 2, 3, 4, 5])\n",
    "np.random.shuffle(shuffle_arr)  # In-place shuffle\n",
    "perm_arr = np.random.permutation(shuffle_arr)  # New permutation\n",
    "\n",
    "# Print Outputs\n",
    "print(\"Random Integer:\", rand_int)\n",
    "print(\"Random Float:\", rand_float)\n",
    "print(\"\\n1D Array of Random Floats:\\n\", rand_array)\n",
    "print(\"\\n2D Random Integer Matrix:\\n\", rand_matrix)\n",
    "print(\"\\nRandom Choice from Array:\", random_choice)\n",
    "print(\"\\nRandom Numbers from Normal Distribution:\\n\", normal_dist)\n",
    "print(\"\\nShuffled Array:\\n\", shuffle_arr)\n",
    "print(\"\\nRandomly Permuted Array:\\n\", perm_arr)"
   ]
  }
 ],
 "metadata": {
  "kernelspec": {
   "display_name": "Python 3 (ipykernel)",
   "language": "python",
   "name": "python3"
  },
  "language_info": {
   "codemirror_mode": {
    "name": "ipython",
    "version": 3
   },
   "file_extension": ".py",
   "mimetype": "text/x-python",
   "name": "python",
   "nbconvert_exporter": "python",
   "pygments_lexer": "ipython3",
   "version": "3.12.4"
  }
 },
 "nbformat": 4,
 "nbformat_minor": 5
}
